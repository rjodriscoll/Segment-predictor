{
 "cells": [
  {
   "cell_type": "code",
   "execution_count": 1,
   "metadata": {},
   "outputs": [],
   "source": [
    "import requests\n",
    "from requests.structures import CaseInsensitiveDict\n",
    "import json\n",
    "import numpy as np\n",
    "from strava_key_gen import access_token\n",
    "from typing import Dict, Tuple\n",
    "import pandas as pd\n",
    "import polyline\n",
    "from geopy import distance\n",
    "import os \n",
    "\n",
    "id = 5270481\n",
    "\n",
    "# retrieve class \n",
    "def check_if_segment_in_db(id:int) -> bool:\n",
    "    return str(id) in os.listdir()\n",
    "\n",
    "def return_segment_from_api(id: int, access_token: str) -> None:\n",
    "    url = f\"https://www.strava.com/api/v3/segments/{id}\"\n",
    "    headers = CaseInsensitiveDict()\n",
    "    headers[\"Authorization\"] = f\"Bearer {access_token}\"\n",
    "    resp = requests.get(url, headers=headers)\n",
    "    if not check_if_segment_in_db(id):\n",
    "        os.mkdir(str(id))\n",
    "    with open(str(id) + '/strava_json.json', 'w') as f:\n",
    "        json.dump(resp.json(), f)\n",
    "\n",
    "def get_name_lat_lon_from_segment_from_json(id:int) ->Tuple[str,list]:\n",
    "    f = open(str(id) + '/strava_json.json')\n",
    "    segment = json.load(f)\n",
    "    return segment['name'], polyline.decode(segment['map']['polyline']) \n",
    "\n",
    "def retrieve_segment(id: int, access_token:str) -> list:\n",
    "    if not check_if_segment_in_db(id):\n",
    "        return_segment_from_api(id, access_token)\n",
    "    return get_name_lat_lon_from_segment_from_json(id)\n",
    "\n",
    "\n",
    "\n",
    "\n",
    "\n",
    "\n",
    "def build_api_call_string(lat_lon):\n",
    "    length = len(lat_lon)\n",
    "    iterations =int(np.ceil(length/100))\n",
    "    start, end = 0, 99\n",
    "    string_lists = []\n",
    "    for i in range(iterations):\n",
    "        string = ''\n",
    "        for j in range(start, end):\n",
    "            lat, lon = lat_lon[j][0], lat_lon[j][1]\n",
    "            string += str(lat) + ',' + str(lon)+ '|'\n",
    "        string_lists.append(string[:-1]) # drop the last pipe\n",
    "        start += 100\n",
    "        \n",
    "        if end + 100 > len(lat_lon):\n",
    "            end = len(lat_lon) \n",
    "        else:\n",
    "            end += 100\n",
    "    \n",
    "    return string_lists\n",
    "\n",
    "# elevations and lat lons \n",
    "def get_elevations_lat_lon(string: str):\n",
    "    url = f\"https://api.opentopodata.org/v1/eudem25m?locations={string}\"\n",
    "    resp = requests.get(url)\n",
    "    resp = resp.json()['results']\n",
    "    result_list = []\n",
    "    for i in range(len(resp)):\n",
    "        result_list.append([resp[i]['elevation'], resp[i]['location']['lat'], resp[i]['location']['lng']])\n",
    "    return result_list\n",
    "\n",
    "def check_if_elevation_lat_lon_exists(id):\n",
    "    return os.path.exists(str(id)+ '/' + 'elevation_lat_lon.npy') \n",
    "\n",
    "\n",
    "def run_api_calls(name:str, lat_lon: list) -> np.array:\n",
    "    if not check_if_elevation_lat_lon_exists(id):\n",
    "        print(f\"getting data for {name}\")\n",
    "        calls = build_api_call_string(lat_lon)\n",
    "        result_list = []\n",
    "        for call in calls:\n",
    "            result_list += get_elevations_lat_lon(call)\n",
    "        ell_np=np.array([np.array(xi) for xi in result_list])\n",
    "        np.save(str(id)+'/elevation_lat_lon.npy', ell_np)\n",
    "        return ell_np\n",
    "\n",
    "    ell_np = np.load(str(id)+'/elevation_lat_lon.npy')\n",
    "    return ell_np\n",
    "\n",
    "\n",
    "\n",
    "# deltas \n",
    "def check_if_rise_run_grade_exists(id):\n",
    "    return os.path.exists(str(id)+ '/' + 'rise_run_grade.npy') \n",
    "\n",
    "def get_distance_delta(point1: list, point2: list) -> float:\n",
    "    return distance.distance(point1, point2).km * 1000 # return delta in meters \n",
    "\n",
    "def get_elevation_delta(point1_elev, point2_elev) -> float:\n",
    "    return point2_elev - point1_elev\n",
    "\n",
    "def get_rise_run_grade(seg_data: np.array):\n",
    "    if not check_if_rise_run_grade_exists(id):\n",
    "        rrg_np= np.empty((0, 3), float)\n",
    "        for i in range(len(seg_data)-1):\n",
    "            run = get_distance_delta(seg_data[i][1:3], seg_data[i+1][1:3])\n",
    "            rise = get_elevation_delta(seg_data[i][0], seg_data[i+1][0])\n",
    "\n",
    "            rrg_np = np.append(rrg_np, np.array([[rise, run,  rise/run *100]]), axis=0)\n",
    "        \n",
    "        np.save(str(id)+'/rise_run_grade.npy', rrg_np)\n",
    "        return rrg_np\n",
    "\n",
    "    rrg_np = np.load(str(id)+'/rise_run_grade.npy')\n",
    "    return rrg_np\n",
    "\n",
    "\n",
    "# calculations \n",
    "def get_time_to_complete_seconds(distance: float, speed: float):\n",
    "    \"\"\" distance is expressed in metres, speed is expressed in kmh.\n",
    "    \"\"\"\n",
    "    time = 3600 * (distance / 1000)/speed\n",
    "    return time\n",
    "\n",
    "    \n",
    "def get_time_in_array(target_power, distance, grade):\n",
    "\n",
    "    speed = converge_on_speed_given_power(target_power = target_power, \n",
    "        grade = grade,\n",
    "        rider_weight = rider_weight,\n",
    "        weight_else = weight_else,\n",
    "        coef_rolling_resistance = coef_rolling_resistance,\n",
    "        air_density = air_density,\n",
    "        frontal_area = frontal_area,\n",
    "        coef_drag = coef_drag,\n",
    "        drive_losses = drive_losses) \n",
    "\n",
    "    return get_time_to_complete_seconds(distance, speed)\n",
    "\n",
    "def get_time_for_segment(target_power, rrg):\n",
    "    return sum([get_time_in_array(target_power, rrg[i, 1], rrg[i,2]) for i in range(len(rrg))])\n"
   ]
  },
  {
   "cell_type": "code",
   "execution_count": 2,
   "metadata": {},
   "outputs": [],
   "source": [
    "from physics.params import rider_weight,frontal_area,coef_drag,grade,weight_else,coef_rolling_resistance,air_density,coef_drag,drive_losses\n",
    "from physics.functions import get_power_given_speed, converge_on_speed_given_power"
   ]
  },
  {
   "cell_type": "code",
   "execution_count": 3,
   "metadata": {},
   "outputs": [],
   "source": [
    "name, lat_lon = retrieve_segment(id, access_token)\n",
    "ell = run_api_calls(name, lat_lon)\n",
    "rrg = get_rise_run_grade(ell)"
   ]
  },
  {
   "cell_type": "code",
   "execution_count": 10,
   "metadata": {},
   "outputs": [
    {
     "name": "stdout",
     "output_type": "stream",
     "text": [
      "wkg= 1.0 time =  73.27975006751991\n",
      "wkg= 1.1333333333333333 time =  65.37753857585425\n",
      "wkg= 1.2666666666666666 time =  59.677392206804306\n",
      "wkg= 1.4 time =  55.04506110447532\n",
      "wkg= 1.5333333333333334 time =  50.43003858130946\n",
      "wkg= 1.6666666666666667 time =  47.51901033856875\n",
      "wkg= 1.8 time =  43.5096798162218\n",
      "wkg= 1.9333333333333333 time =  40.9569122390924\n",
      "wkg= 2.066666666666667 time =  38.12562505583378\n",
      "wkg= 2.2 time =  35.49053681546555\n",
      "wkg= 2.3333333333333335 time =  33.290435700700066\n",
      "wkg= 2.466666666666667 time =  31.65217790434823\n",
      "wkg= 2.6 time =  29.73280179231302\n",
      "wkg= 2.7333333333333334 time =  28.357151048384356\n",
      "wkg= 2.8666666666666667 time =  27.019498307205254\n",
      "wkg= 3.0 time =  25.605899640193414\n",
      "wkg= 3.1333333333333333 time =  24.579992017490888\n",
      "wkg= 3.2666666666666666 time =  23.52051098602027\n",
      "wkg= 3.4 time =  22.630911434514207\n",
      "wkg= 3.533333333333333 time =  21.793945584766806\n",
      "wkg= 3.6666666666666665 time =  21.045243795269204\n",
      "wkg= 3.8 time =  20.32415837250324\n",
      "wkg= 3.933333333333333 time =  19.59387870774429\n",
      "wkg= 4.066666666666666 time =  18.98376547301126\n",
      "wkg= 4.2 time =  18.394576684115197\n",
      "wkg= 4.333333333333333 time =  17.848521442387053\n",
      "wkg= 4.466666666666667 time =  17.346598471914174\n",
      "wkg= 4.6 time =  16.85757020407949\n",
      "wkg= 4.733333333333333 time =  16.405818850960323\n",
      "wkg= 4.866666666666666 time =  15.957678806133194\n",
      "wkg= 5.0 time =  15.565909800703254\n",
      "wkg= 5.133333333333334 time =  15.182361887565332\n",
      "wkg= 5.266666666666667 time =  14.823546572587157\n",
      "wkg= 5.4 time =  14.462181271576622\n",
      "wkg= 5.533333333333333 time =  14.119358514288109\n",
      "wkg= 5.666666666666667 time =  13.82266528380059\n",
      "wkg= 5.8 time =  13.52316239796571\n",
      "wkg= 5.933333333333334 time =  13.238334050620205\n",
      "wkg= 6.066666666666666 time =  12.951202946362896\n",
      "wkg= 6.2 time =  12.69247548342054\n",
      "wkg= 6.333333333333333 time =  12.439698420602276\n",
      "wkg= 6.466666666666667 time =  12.212040320729306\n",
      "wkg= 6.6 time =  11.974976742709531\n",
      "wkg= 6.733333333333333 time =  11.756428603642641\n",
      "wkg= 6.866666666666666 time =  11.547783129446959\n",
      "wkg= 7.0 time =  11.336843501073025\n",
      "wkg= 7.133333333333334 time =  11.140287565612686\n",
      "wkg= 7.266666666666667 time =  10.953721042101042\n",
      "wkg= 7.4 time =  10.781930333314511\n",
      "wkg= 7.533333333333333 time =  10.600099286770071\n",
      "wkg= 7.666666666666667 time =  10.431062901645516\n",
      "wkg= 7.8 time =  10.263803107115354\n",
      "wkg= 7.933333333333334 time =  10.10522773058263\n",
      "wkg= 8.066666666666666 time =  9.972196186554283\n",
      "wkg= 8.2 time =  9.804312352111419\n",
      "wkg= 8.333333333333334 time =  9.674787593018491\n",
      "wkg= 8.466666666666667 time =  9.522036434606074\n",
      "wkg= 8.6 time =  9.415533758751018\n",
      "wkg= 8.733333333333333 time =  9.261695439329719\n",
      "wkg= 8.866666666666667 time =  9.140076732918732\n",
      "wkg= 9.0 time =  9.02202239001382\n",
      "wkg= 9.133333333333333 time =  8.91201489609239\n",
      "wkg= 9.266666666666667 time =  8.795474200677745\n",
      "wkg= 9.4 time =  8.680934379435502\n",
      "wkg= 9.533333333333333 time =  8.562278770488673\n",
      "wkg= 9.666666666666666 time =  8.462761034507377\n",
      "wkg= 9.8 time =  8.375383962298388\n",
      "wkg= 9.933333333333334 time =  8.258878491569213\n"
     ]
    }
   ],
   "source": [
    "for wkg in range(1, 10, 0.1):\n",
    "    target_power = rider_weight * wkg\n",
    "    print('wkg=', wkg, 'time = ', get_time_for_segment(target_power, rrg)/60)\n",
    "\n",
    "\n",
    "    "
   ]
  },
  {
   "cell_type": "code",
   "execution_count": 75,
   "metadata": {},
   "outputs": [
    {
     "data": {
      "text/plain": [
       "1156.8998166878557"
      ]
     },
     "execution_count": 75,
     "metadata": {},
     "output_type": "execute_result"
    }
   ],
   "source": []
  },
  {
   "cell_type": "code",
   "execution_count": 70,
   "metadata": {},
   "outputs": [
    {
     "name": "stdout",
     "output_type": "stream",
     "text": [
      "19.28166361146426\n"
     ]
    }
   ],
   "source": []
  },
  {
   "cell_type": "code",
   "execution_count": null,
   "metadata": {},
   "outputs": [],
   "source": [
    "\n",
    "\n"
   ]
  },
  {
   "cell_type": "code",
   "execution_count": 35,
   "metadata": {},
   "outputs": [
    {
     "data": {
      "text/plain": [
       "(135,)"
      ]
     },
     "execution_count": 35,
     "metadata": {},
     "output_type": "execute_result"
    }
   ],
   "source": [
    "b[:, 1].shape"
   ]
  },
  {
   "cell_type": "code",
   "execution_count": 30,
   "metadata": {},
   "outputs": [
    {
     "data": {
      "text/plain": [
       "1.9735791787926467"
      ]
     },
     "execution_count": 30,
     "metadata": {},
     "output_type": "execute_result"
    }
   ],
   "source": [
    "0.000548216438553513"
   ]
  },
  {
   "cell_type": "code",
   "execution_count": null,
   "metadata": {},
   "outputs": [],
   "source": []
  }
 ],
 "metadata": {
  "interpreter": {
   "hash": "294fa65e5b820699849365cb94a0ca53b5587580e18529403c62e3fc1028bc3e"
  },
  "kernelspec": {
   "display_name": "Python 3.7.4 ('base')",
   "language": "python",
   "name": "python3"
  },
  "language_info": {
   "codemirror_mode": {
    "name": "ipython",
    "version": 3
   },
   "file_extension": ".py",
   "mimetype": "text/x-python",
   "name": "python",
   "nbconvert_exporter": "python",
   "pygments_lexer": "ipython3",
   "version": "3.9.7"
  },
  "orig_nbformat": 4
 },
 "nbformat": 4,
 "nbformat_minor": 2
}
