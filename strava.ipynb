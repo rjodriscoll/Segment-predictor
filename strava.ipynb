{
 "cells": [
  {
   "cell_type": "code",
   "execution_count": 1,
   "metadata": {},
   "outputs": [],
   "source": [
    "import requests\n",
    "from requests.structures import CaseInsensitiveDict\n",
    "import json\n",
    "import numpy as np\n",
    "from strava_key_gen import access_token\n",
    "from typing import Dict, Tuple\n",
    "import polyline\n",
    "from geopy import distance\n",
    "import os \n",
    "import time\n",
    "import plotly.express as px\n",
    "from physics.params import rider_weight,frontal_area,coef_drag,weight_else,coef_rolling_resistance,air_density,coef_drag,drive_losses\n",
    "from physics.functions import get_power_given_speed, converge_on_speed_given_power\n",
    "\n",
    "\n",
    "\n",
    "# retrieve class \n",
    "def check_if_segment_in_db(id:int) -> bool:\n",
    "    return str(id) in os.listdir('data')\n",
    "\n",
    "def return_segment_from_api(id: int, access_token: str) -> None:\n",
    "    url = f\"https://www.strava.com/api/v3/segments/{id}\"\n",
    "    headers = CaseInsensitiveDict()\n",
    "    headers[\"Authorization\"] = f\"Bearer {access_token}\"\n",
    "    resp = requests.get(url, headers=headers)\n",
    "    if not check_if_segment_in_db(id):\n",
    "        os.mkdir(str('data/' + str(id)))\n",
    "    with open(f'data/{str(id)}/strava_json.json', 'w') as f:\n",
    "        json.dump(resp.json(), f)\n",
    "\n",
    "def get_name_lat_lon_from_segment_from_json(id:int) ->Tuple[str,list]:\n",
    "    f = open(f'data/{str(id)}/strava_json.json')\n",
    "    segment = json.load(f)\n",
    "    return segment['name'], polyline.decode(segment['map']['polyline']) \n",
    "\n",
    "def retrieve_segment(id: int, access_token:str) -> list:\n",
    "    if not check_if_segment_in_db(id):\n",
    "        return_segment_from_api(id, access_token)\n",
    "    return get_name_lat_lon_from_segment_from_json(id)\n",
    "    \n",
    "\n",
    "def build_api_call_string(lat_lon):\n",
    "    length = len(lat_lon)\n",
    "    iterations =int(np.ceil(length/100)) \n",
    "    start, end = 0, 100\n",
    "    string_lists = []\n",
    "    for i in range(iterations):\n",
    "        string = ''\n",
    "        for j in range(start, end):\n",
    "            lat, lon = lat_lon[j][0], lat_lon[j][1]\n",
    "            string += str(lat) + ',' + str(lon)+ '|'\n",
    "        string_lists.append(string[:-1]) # drop the last pipe\n",
    "        start += 100\n",
    "        \n",
    "        if end + 100 > len(lat_lon):\n",
    "            end = len(lat_lon) \n",
    "        else:\n",
    "            end += 100\n",
    "    \n",
    "    return string_lists\n",
    "\n",
    "# elevations and lat lons \n",
    "def get_elevations_lat_lon(string: str):\n",
    "    url = f\"https://api.opentopodata.org/v1/eudem25m?locations={string}\"\n",
    "    resp = requests.get(url)\n",
    "    resp = resp.json()['results']\n",
    "    result_list = []\n",
    "    for i in range(len(resp)):\n",
    "        result_list.append([resp[i]['elevation'], resp[i]['location']['lat'], resp[i]['location']['lng']])\n",
    "    return result_list\n",
    "\n",
    "def check_if_elevation_lat_lon_exists(id):\n",
    "    return os.path.exists('data/' + str(id)+ '/' + 'elevation_lat_lon.npy') \n",
    "\n",
    "\n",
    "def run_api_calls(name:str, lat_lon: list) -> np.array:\n",
    "    if not check_if_elevation_lat_lon_exists(id):\n",
    "        print(f\"getting data for {name}\")\n",
    "        calls = build_api_call_string(lat_lon)\n",
    "        result_list = []\n",
    "        for call in calls:\n",
    "            time.sleep(1) # sleep for 1 second to prevent api limit\n",
    "            result_list += get_elevations_lat_lon(call)\n",
    "        ell_np=np.array([np.array(xi) for xi in result_list])\n",
    "        np.save('data/' + str(id)+'/elevation_lat_lon.npy', ell_np)\n",
    "        return ell_np\n",
    "\n",
    "    ell_np = np.load('data/' + str(id)+'/elevation_lat_lon.npy')\n",
    "    return ell_np\n",
    "\n",
    "\n",
    "\n",
    "# deltas \n",
    "def check_if_rise_run_grade_exists(id):\n",
    "    return os.path.exists('data/' + str(id)+ '/' + 'rise_run_grade.npy') \n",
    "\n",
    "def get_distance_delta(point1: list, point2: list) -> float:\n",
    "    return distance.distance(point1, point2).km * 1000 # return delta in meters \n",
    "\n",
    "def get_elevation_delta(point1_elev, point2_elev) -> float:\n",
    "    return point2_elev - point1_elev\n",
    "\n",
    "def get_rise_run_grade(seg_data: np.array):\n",
    "    if not check_if_rise_run_grade_exists(id):\n",
    "        rrg_np= np.empty((0, 3), float)\n",
    "        for i in range(len(seg_data)-1):\n",
    "            run = get_distance_delta(seg_data[i][1:3], seg_data[i+1][1:3])\n",
    "            rise = get_elevation_delta(seg_data[i][0], seg_data[i+1][0])\n",
    "\n",
    "            rrg_np = np.append(rrg_np, np.array([[rise, run,  rise/run *100]]), axis=0)\n",
    "        \n",
    "        np.save('data/' + str(id)+'/rise_run_grade.npy', rrg_np)\n",
    "        return rrg_np\n",
    "\n",
    "    rrg_np = np.load('data/' + str(id)+'/rise_run_grade.npy')\n",
    "    return rrg_np\n",
    "\n",
    "\n",
    "# calculations \n",
    "def get_time_to_complete_seconds(distance: float, speed: float):\n",
    "    \"\"\" distance is expressed in metres, speed is expressed in kmh.\n",
    "    \"\"\"\n",
    "    time = 3600 * (distance / 1000)/speed\n",
    "    return time\n",
    "\n",
    "    \n",
    "def get_time_in_array(target_power, distance, grade):\n",
    "\n",
    "    speed = converge_on_speed_given_power(target_power = target_power, \n",
    "        grade = grade,\n",
    "        rider_weight = rider_weight,\n",
    "        weight_else = weight_else,\n",
    "        coef_rolling_resistance = coef_rolling_resistance,\n",
    "        air_density = air_density,\n",
    "        frontal_area = frontal_area,\n",
    "        coef_drag = coef_drag,\n",
    "        drive_losses = drive_losses) \n",
    "\n",
    "    return get_time_to_complete_seconds(distance, speed)\n",
    "\n",
    "def get_time_for_segment(target_power, rrg):\n",
    "    return sum([get_time_in_array(target_power, rrg[i, 1], rrg[i,2]) for i in range(len(rrg))])\n",
    "\n",
    "def get_segment_summary(rrg):\n",
    "    dist = round(rrg[:, 1].sum()/1000, 2)\n",
    "    mean_grade = round((sum(rrg[:, 0])/sum(rrg[:, 1]))*100 , 2) \n",
    "    return dist, mean_grade\n",
    "\n",
    "def main_runner(id:int, access_token: str):\n",
    "    name, lat_lon = retrieve_segment(id, access_token)\n",
    "    ell = run_api_calls(name, lat_lon)\n",
    "    rrg = get_rise_run_grade(ell)\n",
    "\n",
    "    d, m =get_segment_summary(rrg)\n",
    "\n",
    "    wkg = []\n",
    "    time = []\n",
    "    for wpkg in np.arange(3,8.1, 0.1):\n",
    "        wkg.append(wpkg)\n",
    "        target_power = rider_weight * wpkg\n",
    "        time.append(get_time_for_segment(target_power, rrg)/60)\n",
    "\n",
    "    fig = px.scatter(y=wkg, x=time, title = f'{name}, {d} km, {m}% average gradient.', labels = {'x': 'Time (minutes)', 'y': 'w/kg'})\n",
    "    fig.show()\n"
   ]
  },
  {
   "cell_type": "code",
   "execution_count": 2,
   "metadata": {},
   "outputs": [],
   "source": [
    "id = 14313411"
   ]
  },
  {
   "cell_type": "code",
   "execution_count": 3,
   "metadata": {},
   "outputs": [
    {
     "data": {
      "application/vnd.plotly.v1+json": {
       "config": {
        "plotlyServerURL": "https://plot.ly"
       },
       "data": [
        {
         "hovertemplate": "Time (minutes)=%{x}<br>w/kg=%{y}<extra></extra>",
         "legendgroup": "",
         "marker": {
          "color": "#636efa",
          "symbol": "circle"
         },
         "mode": "markers",
         "name": "",
         "orientation": "v",
         "showlegend": false,
         "type": "scatter",
         "x": [
          32.083718411939856,
          31.121303682717002,
          30.273187833419893,
          29.47727444326774,
          28.687686844308008,
          27.960062258269634,
          27.27053579359762,
          26.646950670929908,
          26.024988095848183,
          25.426273421191095,
          24.902447986938874,
          24.36266230611019,
          23.85181485674705,
          23.381894747068678,
          22.93865401133937,
          22.511510240472354,
          22.07558905035093,
          21.68123181696851,
          21.299562471967032,
          20.9334010789885,
          20.5944434511847,
          20.261221328233333,
          19.93172661298547,
          19.629568475667746,
          19.344389294664186,
          19.045502999108358,
          18.773755779679867,
          18.494927398132596,
          18.238030007774558,
          18.002534696561344,
          17.750254670732208,
          17.53763186026711,
          17.29949288615015,
          17.091163074827797,
          16.895121319497864,
          16.669947692116722,
          16.489965863365576,
          16.304469581118074,
          16.12517343932632,
          15.94766556764388,
          15.775132204600657,
          15.60055282203205,
          15.442215984660606,
          15.289562216908386,
          15.137555305915898,
          14.97979238508405,
          14.844662886046198,
          14.701142567595861,
          14.569598183027823,
          14.423827607123894,
          14.307282952818595
         ],
         "xaxis": "x",
         "y": [
          3,
          3.1,
          3.2,
          3.3000000000000003,
          3.4000000000000004,
          3.5000000000000004,
          3.6000000000000005,
          3.7000000000000006,
          3.8000000000000007,
          3.900000000000001,
          4.000000000000001,
          4.100000000000001,
          4.200000000000001,
          4.300000000000001,
          4.400000000000001,
          4.500000000000002,
          4.600000000000001,
          4.700000000000001,
          4.800000000000002,
          4.900000000000002,
          5.000000000000002,
          5.100000000000001,
          5.200000000000002,
          5.3000000000000025,
          5.400000000000002,
          5.500000000000002,
          5.600000000000002,
          5.700000000000003,
          5.8000000000000025,
          5.900000000000002,
          6.000000000000003,
          6.100000000000003,
          6.200000000000003,
          6.3000000000000025,
          6.400000000000003,
          6.5000000000000036,
          6.600000000000003,
          6.700000000000003,
          6.800000000000003,
          6.900000000000004,
          7.0000000000000036,
          7.100000000000003,
          7.200000000000004,
          7.300000000000004,
          7.400000000000004,
          7.5000000000000036,
          7.600000000000004,
          7.700000000000005,
          7.800000000000004,
          7.900000000000004,
          8.000000000000004
         ],
         "yaxis": "y"
        }
       ],
       "layout": {
        "legend": {
         "tracegroupgap": 0
        },
        "template": {
         "data": {
          "bar": [
           {
            "error_x": {
             "color": "#2a3f5f"
            },
            "error_y": {
             "color": "#2a3f5f"
            },
            "marker": {
             "line": {
              "color": "#E5ECF6",
              "width": 0.5
             },
             "pattern": {
              "fillmode": "overlay",
              "size": 10,
              "solidity": 0.2
             }
            },
            "type": "bar"
           }
          ],
          "barpolar": [
           {
            "marker": {
             "line": {
              "color": "#E5ECF6",
              "width": 0.5
             },
             "pattern": {
              "fillmode": "overlay",
              "size": 10,
              "solidity": 0.2
             }
            },
            "type": "barpolar"
           }
          ],
          "carpet": [
           {
            "aaxis": {
             "endlinecolor": "#2a3f5f",
             "gridcolor": "white",
             "linecolor": "white",
             "minorgridcolor": "white",
             "startlinecolor": "#2a3f5f"
            },
            "baxis": {
             "endlinecolor": "#2a3f5f",
             "gridcolor": "white",
             "linecolor": "white",
             "minorgridcolor": "white",
             "startlinecolor": "#2a3f5f"
            },
            "type": "carpet"
           }
          ],
          "choropleth": [
           {
            "colorbar": {
             "outlinewidth": 0,
             "ticks": ""
            },
            "type": "choropleth"
           }
          ],
          "contour": [
           {
            "colorbar": {
             "outlinewidth": 0,
             "ticks": ""
            },
            "colorscale": [
             [
              0,
              "#0d0887"
             ],
             [
              0.1111111111111111,
              "#46039f"
             ],
             [
              0.2222222222222222,
              "#7201a8"
             ],
             [
              0.3333333333333333,
              "#9c179e"
             ],
             [
              0.4444444444444444,
              "#bd3786"
             ],
             [
              0.5555555555555556,
              "#d8576b"
             ],
             [
              0.6666666666666666,
              "#ed7953"
             ],
             [
              0.7777777777777778,
              "#fb9f3a"
             ],
             [
              0.8888888888888888,
              "#fdca26"
             ],
             [
              1,
              "#f0f921"
             ]
            ],
            "type": "contour"
           }
          ],
          "contourcarpet": [
           {
            "colorbar": {
             "outlinewidth": 0,
             "ticks": ""
            },
            "type": "contourcarpet"
           }
          ],
          "heatmap": [
           {
            "colorbar": {
             "outlinewidth": 0,
             "ticks": ""
            },
            "colorscale": [
             [
              0,
              "#0d0887"
             ],
             [
              0.1111111111111111,
              "#46039f"
             ],
             [
              0.2222222222222222,
              "#7201a8"
             ],
             [
              0.3333333333333333,
              "#9c179e"
             ],
             [
              0.4444444444444444,
              "#bd3786"
             ],
             [
              0.5555555555555556,
              "#d8576b"
             ],
             [
              0.6666666666666666,
              "#ed7953"
             ],
             [
              0.7777777777777778,
              "#fb9f3a"
             ],
             [
              0.8888888888888888,
              "#fdca26"
             ],
             [
              1,
              "#f0f921"
             ]
            ],
            "type": "heatmap"
           }
          ],
          "heatmapgl": [
           {
            "colorbar": {
             "outlinewidth": 0,
             "ticks": ""
            },
            "colorscale": [
             [
              0,
              "#0d0887"
             ],
             [
              0.1111111111111111,
              "#46039f"
             ],
             [
              0.2222222222222222,
              "#7201a8"
             ],
             [
              0.3333333333333333,
              "#9c179e"
             ],
             [
              0.4444444444444444,
              "#bd3786"
             ],
             [
              0.5555555555555556,
              "#d8576b"
             ],
             [
              0.6666666666666666,
              "#ed7953"
             ],
             [
              0.7777777777777778,
              "#fb9f3a"
             ],
             [
              0.8888888888888888,
              "#fdca26"
             ],
             [
              1,
              "#f0f921"
             ]
            ],
            "type": "heatmapgl"
           }
          ],
          "histogram": [
           {
            "marker": {
             "pattern": {
              "fillmode": "overlay",
              "size": 10,
              "solidity": 0.2
             }
            },
            "type": "histogram"
           }
          ],
          "histogram2d": [
           {
            "colorbar": {
             "outlinewidth": 0,
             "ticks": ""
            },
            "colorscale": [
             [
              0,
              "#0d0887"
             ],
             [
              0.1111111111111111,
              "#46039f"
             ],
             [
              0.2222222222222222,
              "#7201a8"
             ],
             [
              0.3333333333333333,
              "#9c179e"
             ],
             [
              0.4444444444444444,
              "#bd3786"
             ],
             [
              0.5555555555555556,
              "#d8576b"
             ],
             [
              0.6666666666666666,
              "#ed7953"
             ],
             [
              0.7777777777777778,
              "#fb9f3a"
             ],
             [
              0.8888888888888888,
              "#fdca26"
             ],
             [
              1,
              "#f0f921"
             ]
            ],
            "type": "histogram2d"
           }
          ],
          "histogram2dcontour": [
           {
            "colorbar": {
             "outlinewidth": 0,
             "ticks": ""
            },
            "colorscale": [
             [
              0,
              "#0d0887"
             ],
             [
              0.1111111111111111,
              "#46039f"
             ],
             [
              0.2222222222222222,
              "#7201a8"
             ],
             [
              0.3333333333333333,
              "#9c179e"
             ],
             [
              0.4444444444444444,
              "#bd3786"
             ],
             [
              0.5555555555555556,
              "#d8576b"
             ],
             [
              0.6666666666666666,
              "#ed7953"
             ],
             [
              0.7777777777777778,
              "#fb9f3a"
             ],
             [
              0.8888888888888888,
              "#fdca26"
             ],
             [
              1,
              "#f0f921"
             ]
            ],
            "type": "histogram2dcontour"
           }
          ],
          "mesh3d": [
           {
            "colorbar": {
             "outlinewidth": 0,
             "ticks": ""
            },
            "type": "mesh3d"
           }
          ],
          "parcoords": [
           {
            "line": {
             "colorbar": {
              "outlinewidth": 0,
              "ticks": ""
             }
            },
            "type": "parcoords"
           }
          ],
          "pie": [
           {
            "automargin": true,
            "type": "pie"
           }
          ],
          "scatter": [
           {
            "fillpattern": {
             "fillmode": "overlay",
             "size": 10,
             "solidity": 0.2
            },
            "type": "scatter"
           }
          ],
          "scatter3d": [
           {
            "line": {
             "colorbar": {
              "outlinewidth": 0,
              "ticks": ""
             }
            },
            "marker": {
             "colorbar": {
              "outlinewidth": 0,
              "ticks": ""
             }
            },
            "type": "scatter3d"
           }
          ],
          "scattercarpet": [
           {
            "marker": {
             "colorbar": {
              "outlinewidth": 0,
              "ticks": ""
             }
            },
            "type": "scattercarpet"
           }
          ],
          "scattergeo": [
           {
            "marker": {
             "colorbar": {
              "outlinewidth": 0,
              "ticks": ""
             }
            },
            "type": "scattergeo"
           }
          ],
          "scattergl": [
           {
            "marker": {
             "colorbar": {
              "outlinewidth": 0,
              "ticks": ""
             }
            },
            "type": "scattergl"
           }
          ],
          "scattermapbox": [
           {
            "marker": {
             "colorbar": {
              "outlinewidth": 0,
              "ticks": ""
             }
            },
            "type": "scattermapbox"
           }
          ],
          "scatterpolar": [
           {
            "marker": {
             "colorbar": {
              "outlinewidth": 0,
              "ticks": ""
             }
            },
            "type": "scatterpolar"
           }
          ],
          "scatterpolargl": [
           {
            "marker": {
             "colorbar": {
              "outlinewidth": 0,
              "ticks": ""
             }
            },
            "type": "scatterpolargl"
           }
          ],
          "scatterternary": [
           {
            "marker": {
             "colorbar": {
              "outlinewidth": 0,
              "ticks": ""
             }
            },
            "type": "scatterternary"
           }
          ],
          "surface": [
           {
            "colorbar": {
             "outlinewidth": 0,
             "ticks": ""
            },
            "colorscale": [
             [
              0,
              "#0d0887"
             ],
             [
              0.1111111111111111,
              "#46039f"
             ],
             [
              0.2222222222222222,
              "#7201a8"
             ],
             [
              0.3333333333333333,
              "#9c179e"
             ],
             [
              0.4444444444444444,
              "#bd3786"
             ],
             [
              0.5555555555555556,
              "#d8576b"
             ],
             [
              0.6666666666666666,
              "#ed7953"
             ],
             [
              0.7777777777777778,
              "#fb9f3a"
             ],
             [
              0.8888888888888888,
              "#fdca26"
             ],
             [
              1,
              "#f0f921"
             ]
            ],
            "type": "surface"
           }
          ],
          "table": [
           {
            "cells": {
             "fill": {
              "color": "#EBF0F8"
             },
             "line": {
              "color": "white"
             }
            },
            "header": {
             "fill": {
              "color": "#C8D4E3"
             },
             "line": {
              "color": "white"
             }
            },
            "type": "table"
           }
          ]
         },
         "layout": {
          "annotationdefaults": {
           "arrowcolor": "#2a3f5f",
           "arrowhead": 0,
           "arrowwidth": 1
          },
          "autotypenumbers": "strict",
          "coloraxis": {
           "colorbar": {
            "outlinewidth": 0,
            "ticks": ""
           }
          },
          "colorscale": {
           "diverging": [
            [
             0,
             "#8e0152"
            ],
            [
             0.1,
             "#c51b7d"
            ],
            [
             0.2,
             "#de77ae"
            ],
            [
             0.3,
             "#f1b6da"
            ],
            [
             0.4,
             "#fde0ef"
            ],
            [
             0.5,
             "#f7f7f7"
            ],
            [
             0.6,
             "#e6f5d0"
            ],
            [
             0.7,
             "#b8e186"
            ],
            [
             0.8,
             "#7fbc41"
            ],
            [
             0.9,
             "#4d9221"
            ],
            [
             1,
             "#276419"
            ]
           ],
           "sequential": [
            [
             0,
             "#0d0887"
            ],
            [
             0.1111111111111111,
             "#46039f"
            ],
            [
             0.2222222222222222,
             "#7201a8"
            ],
            [
             0.3333333333333333,
             "#9c179e"
            ],
            [
             0.4444444444444444,
             "#bd3786"
            ],
            [
             0.5555555555555556,
             "#d8576b"
            ],
            [
             0.6666666666666666,
             "#ed7953"
            ],
            [
             0.7777777777777778,
             "#fb9f3a"
            ],
            [
             0.8888888888888888,
             "#fdca26"
            ],
            [
             1,
             "#f0f921"
            ]
           ],
           "sequentialminus": [
            [
             0,
             "#0d0887"
            ],
            [
             0.1111111111111111,
             "#46039f"
            ],
            [
             0.2222222222222222,
             "#7201a8"
            ],
            [
             0.3333333333333333,
             "#9c179e"
            ],
            [
             0.4444444444444444,
             "#bd3786"
            ],
            [
             0.5555555555555556,
             "#d8576b"
            ],
            [
             0.6666666666666666,
             "#ed7953"
            ],
            [
             0.7777777777777778,
             "#fb9f3a"
            ],
            [
             0.8888888888888888,
             "#fdca26"
            ],
            [
             1,
             "#f0f921"
            ]
           ]
          },
          "colorway": [
           "#636efa",
           "#EF553B",
           "#00cc96",
           "#ab63fa",
           "#FFA15A",
           "#19d3f3",
           "#FF6692",
           "#B6E880",
           "#FF97FF",
           "#FECB52"
          ],
          "font": {
           "color": "#2a3f5f"
          },
          "geo": {
           "bgcolor": "white",
           "lakecolor": "white",
           "landcolor": "#E5ECF6",
           "showlakes": true,
           "showland": true,
           "subunitcolor": "white"
          },
          "hoverlabel": {
           "align": "left"
          },
          "hovermode": "closest",
          "mapbox": {
           "style": "light"
          },
          "paper_bgcolor": "white",
          "plot_bgcolor": "#E5ECF6",
          "polar": {
           "angularaxis": {
            "gridcolor": "white",
            "linecolor": "white",
            "ticks": ""
           },
           "bgcolor": "#E5ECF6",
           "radialaxis": {
            "gridcolor": "white",
            "linecolor": "white",
            "ticks": ""
           }
          },
          "scene": {
           "xaxis": {
            "backgroundcolor": "#E5ECF6",
            "gridcolor": "white",
            "gridwidth": 2,
            "linecolor": "white",
            "showbackground": true,
            "ticks": "",
            "zerolinecolor": "white"
           },
           "yaxis": {
            "backgroundcolor": "#E5ECF6",
            "gridcolor": "white",
            "gridwidth": 2,
            "linecolor": "white",
            "showbackground": true,
            "ticks": "",
            "zerolinecolor": "white"
           },
           "zaxis": {
            "backgroundcolor": "#E5ECF6",
            "gridcolor": "white",
            "gridwidth": 2,
            "linecolor": "white",
            "showbackground": true,
            "ticks": "",
            "zerolinecolor": "white"
           }
          },
          "shapedefaults": {
           "line": {
            "color": "#2a3f5f"
           }
          },
          "ternary": {
           "aaxis": {
            "gridcolor": "white",
            "linecolor": "white",
            "ticks": ""
           },
           "baxis": {
            "gridcolor": "white",
            "linecolor": "white",
            "ticks": ""
           },
           "bgcolor": "#E5ECF6",
           "caxis": {
            "gridcolor": "white",
            "linecolor": "white",
            "ticks": ""
           }
          },
          "title": {
           "x": 0.05
          },
          "xaxis": {
           "automargin": true,
           "gridcolor": "white",
           "linecolor": "white",
           "ticks": "",
           "title": {
            "standoff": 15
           },
           "zerolinecolor": "white",
           "zerolinewidth": 2
          },
          "yaxis": {
           "automargin": true,
           "gridcolor": "white",
           "linecolor": "white",
           "ticks": "",
           "title": {
            "standoff": 15
           },
           "zerolinecolor": "white",
           "zerolinewidth": 2
          }
         }
        },
        "title": {
         "text": "Lepence - Pilisszentlászló emelkedő, 7.71 km, 3.86% average gradient."
        },
        "xaxis": {
         "anchor": "y",
         "domain": [
          0,
          1
         ],
         "title": {
          "text": "Time (minutes)"
         }
        },
        "yaxis": {
         "anchor": "x",
         "domain": [
          0,
          1
         ],
         "title": {
          "text": "w/kg"
         }
        }
       }
      }
     },
     "metadata": {},
     "output_type": "display_data"
    }
   ],
   "source": [
    "main_runner(id, access_token)\n"
   ]
  },
  {
   "cell_type": "code",
   "execution_count": null,
   "metadata": {},
   "outputs": [],
   "source": []
  }
 ],
 "metadata": {
  "interpreter": {
   "hash": "294fa65e5b820699849365cb94a0ca53b5587580e18529403c62e3fc1028bc3e"
  },
  "kernelspec": {
   "display_name": "Python 3.7.4 ('base')",
   "language": "python",
   "name": "python3"
  },
  "language_info": {
   "codemirror_mode": {
    "name": "ipython",
    "version": 3
   },
   "file_extension": ".py",
   "mimetype": "text/x-python",
   "name": "python",
   "nbconvert_exporter": "python",
   "pygments_lexer": "ipython3",
   "version": "3.9.7"
  },
  "orig_nbformat": 4
 },
 "nbformat": 4,
 "nbformat_minor": 2
}
