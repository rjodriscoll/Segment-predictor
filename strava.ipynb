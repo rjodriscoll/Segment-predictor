{
 "cells": [
  {
   "cell_type": "code",
   "execution_count": 5,
   "metadata": {},
   "outputs": [],
   "source": [
    "import requests\n",
    "from requests.structures import CaseInsensitiveDict\n",
    "import json\n",
    "import numpy as np\n",
    "from strava_key_gen import access_token\n",
    "from typing import Dict, Tuple\n",
    "import pandas as pd\n",
    "import polyline\n",
    "from geopy import distance\n",
    "import os \n",
    "import time\n",
    "import plotly.express as px\n",
    "from physics.params import rider_weight,frontal_area,coef_drag,grade,weight_else,coef_rolling_resistance,air_density,coef_drag,drive_losses\n",
    "from physics.functions import get_power_given_speed, converge_on_speed_given_power\n",
    "\n",
    "\n",
    "id = 6677392\n",
    "\n",
    "# retrieve class \n",
    "def check_if_segment_in_db(id:int) -> bool:\n",
    "    return str(id) in os.listdir()\n",
    "\n",
    "def return_segment_from_api(id: int, access_token: str) -> None:\n",
    "    url = f\"https://www.strava.com/api/v3/segments/{id}\"\n",
    "    headers = CaseInsensitiveDict()\n",
    "    headers[\"Authorization\"] = f\"Bearer {access_token}\"\n",
    "    resp = requests.get(url, headers=headers)\n",
    "    if not check_if_segment_in_db(id):\n",
    "        os.mkdir(str(id))\n",
    "    with open(str(id) + '/strava_json.json', 'w') as f:\n",
    "        json.dump(resp.json(), f)\n",
    "\n",
    "def get_name_lat_lon_from_segment_from_json(id:int) ->Tuple[str,list]:\n",
    "    f = open(str(id) + '/strava_json.json')\n",
    "    segment = json.load(f)\n",
    "    return segment['name'], polyline.decode(segment['map']['polyline']) \n",
    "\n",
    "def retrieve_segment(id: int, access_token:str) -> list:\n",
    "    if not check_if_segment_in_db(id):\n",
    "        return_segment_from_api(id, access_token)\n",
    "    return get_name_lat_lon_from_segment_from_json(id)\n",
    "    \n",
    "\n",
    "def build_api_call_string(lat_lon):\n",
    "    length = len(lat_lon)\n",
    "    iterations =int(np.ceil(length/100)) \n",
    "    start, end = 0, 100\n",
    "    string_lists = []\n",
    "    for i in range(iterations):\n",
    "        string = ''\n",
    "        for j in range(start, end):\n",
    "            lat, lon = lat_lon[j][0], lat_lon[j][1]\n",
    "            string += str(lat) + ',' + str(lon)+ '|'\n",
    "        string_lists.append(string[:-1]) # drop the last pipe\n",
    "        start += 100\n",
    "        \n",
    "        if end + 100 > len(lat_lon):\n",
    "            end = len(lat_lon) \n",
    "        else:\n",
    "            end += 100\n",
    "    \n",
    "    return string_lists\n",
    "\n",
    "# elevations and lat lons \n",
    "def get_elevations_lat_lon(string: str):\n",
    "    url = f\"https://api.opentopodata.org/v1/eudem25m?locations={string}\"\n",
    "    resp = requests.get(url)\n",
    "    resp = resp.json()['results']\n",
    "    result_list = []\n",
    "    for i in range(len(resp)):\n",
    "        result_list.append([resp[i]['elevation'], resp[i]['location']['lat'], resp[i]['location']['lng']])\n",
    "    return result_list\n",
    "\n",
    "def check_if_elevation_lat_lon_exists(id):\n",
    "    return os.path.exists(str(id)+ '/' + 'elevation_lat_lon.npy') \n",
    "\n",
    "\n",
    "def run_api_calls(name:str, lat_lon: list) -> np.array:\n",
    "    if not check_if_elevation_lat_lon_exists(id):\n",
    "        print(f\"getting data for {name}\")\n",
    "        calls = build_api_call_string(lat_lon)\n",
    "        result_list = []\n",
    "        for call in calls:\n",
    "            time.sleep(1) # sleep for 1 second to prevent api limit\n",
    "            result_list += get_elevations_lat_lon(call)\n",
    "        ell_np=np.array([np.array(xi) for xi in result_list])\n",
    "        np.save(str(id)+'/elevation_lat_lon.npy', ell_np)\n",
    "        return ell_np\n",
    "\n",
    "    ell_np = np.load(str(id)+'/elevation_lat_lon.npy')\n",
    "    return ell_np\n",
    "\n",
    "\n",
    "\n",
    "# deltas \n",
    "def check_if_rise_run_grade_exists(id):\n",
    "    return os.path.exists(str(id)+ '/' + 'rise_run_grade.npy') \n",
    "\n",
    "def get_distance_delta(point1: list, point2: list) -> float:\n",
    "    return distance.distance(point1, point2).km * 1000 # return delta in meters \n",
    "\n",
    "def get_elevation_delta(point1_elev, point2_elev) -> float:\n",
    "    return point2_elev - point1_elev\n",
    "\n",
    "def get_rise_run_grade(seg_data: np.array):\n",
    "    if not check_if_rise_run_grade_exists(id):\n",
    "        rrg_np= np.empty((0, 3), float)\n",
    "        for i in range(len(seg_data)-1):\n",
    "            run = get_distance_delta(seg_data[i][1:3], seg_data[i+1][1:3])\n",
    "            rise = get_elevation_delta(seg_data[i][0], seg_data[i+1][0])\n",
    "\n",
    "            rrg_np = np.append(rrg_np, np.array([[rise, run,  rise/run *100]]), axis=0)\n",
    "        \n",
    "        np.save(str(id)+'/rise_run_grade.npy', rrg_np)\n",
    "        return rrg_np\n",
    "\n",
    "    rrg_np = np.load(str(id)+'/rise_run_grade.npy')\n",
    "    return rrg_np\n",
    "\n",
    "\n",
    "# calculations \n",
    "def get_time_to_complete_seconds(distance: float, speed: float):\n",
    "    \"\"\" distance is expressed in metres, speed is expressed in kmh.\n",
    "    \"\"\"\n",
    "    time = 3600 * (distance / 1000)/speed\n",
    "    return time\n",
    "\n",
    "    \n",
    "def get_time_in_array(target_power, distance, grade):\n",
    "\n",
    "    speed = converge_on_speed_given_power(target_power = target_power, \n",
    "        grade = grade,\n",
    "        rider_weight = rider_weight,\n",
    "        weight_else = weight_else,\n",
    "        coef_rolling_resistance = coef_rolling_resistance,\n",
    "        air_density = air_density,\n",
    "        frontal_area = frontal_area,\n",
    "        coef_drag = coef_drag,\n",
    "        drive_losses = drive_losses) \n",
    "\n",
    "    return get_time_to_complete_seconds(distance, speed)\n",
    "\n",
    "def get_time_for_segment(target_power, rrg):\n",
    "    return sum([get_time_in_array(target_power, rrg[i, 1], rrg[i,2]) for i in range(len(rrg))])\n",
    "\n",
    "def get_segment_summary(rrg):\n",
    "    dist = round(rrg[:, 1].sum()/1000, 2)\n",
    "    mean_grade = round(rrg[:, 2].mean(), 2)\n",
    "    return dist, mean_grade\n",
    "\n",
    "def main_runner(id:int, access_token: str):\n",
    "    name, lat_lon = retrieve_segment(id, access_token)\n",
    "    ell = run_api_calls(name, lat_lon)\n",
    "    rrg = get_rise_run_grade(ell)\n",
    "\n",
    "    d, m =get_segment_summary(rrg)\n",
    "\n",
    "    wkg = []\n",
    "    time = []\n",
    "    for wpkg in np.arange(3,8.1, 0.1):\n",
    "        wkg.append(wpkg)\n",
    "        target_power = rider_weight * wpkg\n",
    "        time.append(get_time_for_segment(target_power, rrg)/60)\n",
    "\n",
    "    fig = px.scatter(y=wkg, x=time, title = f'{name}, {d} km, {m}% average gradient.', labels = {'x': 'Time (minutes)', 'y': 'w/kg'})\n",
    "    fig.show()\n"
   ]
  },
  {
   "cell_type": "code",
   "execution_count": 6,
   "metadata": {},
   "outputs": [
    {
     "name": "stdout",
     "output_type": "stream",
     "text": [
      "getting data for OFFICIAL 100Climbs No84 Hardknott Pass\n"
     ]
    },
    {
     "data": {
      "application/vnd.plotly.v1+json": {
       "config": {
        "plotlyServerURL": "https://plot.ly"
       },
       "data": [
        {
         "hovertemplate": "Time (minutes)=%{x}<br>w/kg=%{y}<extra></extra>",
         "legendgroup": "",
         "marker": {
          "color": "#636efa",
          "symbol": "circle"
         },
         "mode": "markers",
         "name": "",
         "orientation": "v",
         "showlegend": false,
         "type": "scatter",
         "x": [
          18.738419062978917,
          18.18044022612812,
          17.57000081216515,
          17.00062437538994,
          16.443428104007143,
          15.932306860359908,
          15.505435597078321,
          15.07388039349194,
          14.695000396415995,
          14.27436472612069,
          13.933995793422676,
          13.609331270429925,
          13.268370988395116,
          12.940098451212396,
          12.667756028923103,
          12.407062730712644,
          12.135137145086095,
          11.882225910446403,
          11.634593868298186,
          11.412708313736449,
          11.187896469302354,
          10.958263622748174,
          10.749528688982405,
          10.557449770941105,
          10.363150633073094,
          10.184979196233341,
          9.997799274430474,
          9.82200053619521,
          9.665534924342476,
          9.48930560885098,
          9.353786007606443,
          9.20445055292857,
          9.051514841970258,
          8.916323180854363,
          8.77859750608687,
          8.648183086482053,
          8.52760602121006,
          8.39364460609207,
          8.275879515284712,
          8.158824339760553,
          8.05261221718015,
          7.940779938350771,
          7.831293325069789,
          7.732219324251028,
          7.62970767188796,
          7.52524335933312,
          7.434585823981615,
          7.332444352160013,
          7.2520058419148175,
          7.164096552722176,
          7.086012773225893
         ],
         "xaxis": "x",
         "y": [
          3,
          3.1,
          3.2,
          3.3000000000000003,
          3.4000000000000004,
          3.5000000000000004,
          3.6000000000000005,
          3.7000000000000006,
          3.8000000000000007,
          3.900000000000001,
          4.000000000000001,
          4.100000000000001,
          4.200000000000001,
          4.300000000000001,
          4.400000000000001,
          4.500000000000002,
          4.600000000000001,
          4.700000000000001,
          4.800000000000002,
          4.900000000000002,
          5.000000000000002,
          5.100000000000001,
          5.200000000000002,
          5.3000000000000025,
          5.400000000000002,
          5.500000000000002,
          5.600000000000002,
          5.700000000000003,
          5.8000000000000025,
          5.900000000000002,
          6.000000000000003,
          6.100000000000003,
          6.200000000000003,
          6.3000000000000025,
          6.400000000000003,
          6.5000000000000036,
          6.600000000000003,
          6.700000000000003,
          6.800000000000003,
          6.900000000000004,
          7.0000000000000036,
          7.100000000000003,
          7.200000000000004,
          7.300000000000004,
          7.400000000000004,
          7.5000000000000036,
          7.600000000000004,
          7.700000000000005,
          7.800000000000004,
          7.900000000000004,
          8.000000000000004
         ],
         "yaxis": "y"
        }
       ],
       "layout": {
        "legend": {
         "tracegroupgap": 0
        },
        "template": {
         "data": {
          "bar": [
           {
            "error_x": {
             "color": "#2a3f5f"
            },
            "error_y": {
             "color": "#2a3f5f"
            },
            "marker": {
             "line": {
              "color": "#E5ECF6",
              "width": 0.5
             },
             "pattern": {
              "fillmode": "overlay",
              "size": 10,
              "solidity": 0.2
             }
            },
            "type": "bar"
           }
          ],
          "barpolar": [
           {
            "marker": {
             "line": {
              "color": "#E5ECF6",
              "width": 0.5
             },
             "pattern": {
              "fillmode": "overlay",
              "size": 10,
              "solidity": 0.2
             }
            },
            "type": "barpolar"
           }
          ],
          "carpet": [
           {
            "aaxis": {
             "endlinecolor": "#2a3f5f",
             "gridcolor": "white",
             "linecolor": "white",
             "minorgridcolor": "white",
             "startlinecolor": "#2a3f5f"
            },
            "baxis": {
             "endlinecolor": "#2a3f5f",
             "gridcolor": "white",
             "linecolor": "white",
             "minorgridcolor": "white",
             "startlinecolor": "#2a3f5f"
            },
            "type": "carpet"
           }
          ],
          "choropleth": [
           {
            "colorbar": {
             "outlinewidth": 0,
             "ticks": ""
            },
            "type": "choropleth"
           }
          ],
          "contour": [
           {
            "colorbar": {
             "outlinewidth": 0,
             "ticks": ""
            },
            "colorscale": [
             [
              0,
              "#0d0887"
             ],
             [
              0.1111111111111111,
              "#46039f"
             ],
             [
              0.2222222222222222,
              "#7201a8"
             ],
             [
              0.3333333333333333,
              "#9c179e"
             ],
             [
              0.4444444444444444,
              "#bd3786"
             ],
             [
              0.5555555555555556,
              "#d8576b"
             ],
             [
              0.6666666666666666,
              "#ed7953"
             ],
             [
              0.7777777777777778,
              "#fb9f3a"
             ],
             [
              0.8888888888888888,
              "#fdca26"
             ],
             [
              1,
              "#f0f921"
             ]
            ],
            "type": "contour"
           }
          ],
          "contourcarpet": [
           {
            "colorbar": {
             "outlinewidth": 0,
             "ticks": ""
            },
            "type": "contourcarpet"
           }
          ],
          "heatmap": [
           {
            "colorbar": {
             "outlinewidth": 0,
             "ticks": ""
            },
            "colorscale": [
             [
              0,
              "#0d0887"
             ],
             [
              0.1111111111111111,
              "#46039f"
             ],
             [
              0.2222222222222222,
              "#7201a8"
             ],
             [
              0.3333333333333333,
              "#9c179e"
             ],
             [
              0.4444444444444444,
              "#bd3786"
             ],
             [
              0.5555555555555556,
              "#d8576b"
             ],
             [
              0.6666666666666666,
              "#ed7953"
             ],
             [
              0.7777777777777778,
              "#fb9f3a"
             ],
             [
              0.8888888888888888,
              "#fdca26"
             ],
             [
              1,
              "#f0f921"
             ]
            ],
            "type": "heatmap"
           }
          ],
          "heatmapgl": [
           {
            "colorbar": {
             "outlinewidth": 0,
             "ticks": ""
            },
            "colorscale": [
             [
              0,
              "#0d0887"
             ],
             [
              0.1111111111111111,
              "#46039f"
             ],
             [
              0.2222222222222222,
              "#7201a8"
             ],
             [
              0.3333333333333333,
              "#9c179e"
             ],
             [
              0.4444444444444444,
              "#bd3786"
             ],
             [
              0.5555555555555556,
              "#d8576b"
             ],
             [
              0.6666666666666666,
              "#ed7953"
             ],
             [
              0.7777777777777778,
              "#fb9f3a"
             ],
             [
              0.8888888888888888,
              "#fdca26"
             ],
             [
              1,
              "#f0f921"
             ]
            ],
            "type": "heatmapgl"
           }
          ],
          "histogram": [
           {
            "marker": {
             "pattern": {
              "fillmode": "overlay",
              "size": 10,
              "solidity": 0.2
             }
            },
            "type": "histogram"
           }
          ],
          "histogram2d": [
           {
            "colorbar": {
             "outlinewidth": 0,
             "ticks": ""
            },
            "colorscale": [
             [
              0,
              "#0d0887"
             ],
             [
              0.1111111111111111,
              "#46039f"
             ],
             [
              0.2222222222222222,
              "#7201a8"
             ],
             [
              0.3333333333333333,
              "#9c179e"
             ],
             [
              0.4444444444444444,
              "#bd3786"
             ],
             [
              0.5555555555555556,
              "#d8576b"
             ],
             [
              0.6666666666666666,
              "#ed7953"
             ],
             [
              0.7777777777777778,
              "#fb9f3a"
             ],
             [
              0.8888888888888888,
              "#fdca26"
             ],
             [
              1,
              "#f0f921"
             ]
            ],
            "type": "histogram2d"
           }
          ],
          "histogram2dcontour": [
           {
            "colorbar": {
             "outlinewidth": 0,
             "ticks": ""
            },
            "colorscale": [
             [
              0,
              "#0d0887"
             ],
             [
              0.1111111111111111,
              "#46039f"
             ],
             [
              0.2222222222222222,
              "#7201a8"
             ],
             [
              0.3333333333333333,
              "#9c179e"
             ],
             [
              0.4444444444444444,
              "#bd3786"
             ],
             [
              0.5555555555555556,
              "#d8576b"
             ],
             [
              0.6666666666666666,
              "#ed7953"
             ],
             [
              0.7777777777777778,
              "#fb9f3a"
             ],
             [
              0.8888888888888888,
              "#fdca26"
             ],
             [
              1,
              "#f0f921"
             ]
            ],
            "type": "histogram2dcontour"
           }
          ],
          "mesh3d": [
           {
            "colorbar": {
             "outlinewidth": 0,
             "ticks": ""
            },
            "type": "mesh3d"
           }
          ],
          "parcoords": [
           {
            "line": {
             "colorbar": {
              "outlinewidth": 0,
              "ticks": ""
             }
            },
            "type": "parcoords"
           }
          ],
          "pie": [
           {
            "automargin": true,
            "type": "pie"
           }
          ],
          "scatter": [
           {
            "marker": {
             "colorbar": {
              "outlinewidth": 0,
              "ticks": ""
             }
            },
            "type": "scatter"
           }
          ],
          "scatter3d": [
           {
            "line": {
             "colorbar": {
              "outlinewidth": 0,
              "ticks": ""
             }
            },
            "marker": {
             "colorbar": {
              "outlinewidth": 0,
              "ticks": ""
             }
            },
            "type": "scatter3d"
           }
          ],
          "scattercarpet": [
           {
            "marker": {
             "colorbar": {
              "outlinewidth": 0,
              "ticks": ""
             }
            },
            "type": "scattercarpet"
           }
          ],
          "scattergeo": [
           {
            "marker": {
             "colorbar": {
              "outlinewidth": 0,
              "ticks": ""
             }
            },
            "type": "scattergeo"
           }
          ],
          "scattergl": [
           {
            "marker": {
             "colorbar": {
              "outlinewidth": 0,
              "ticks": ""
             }
            },
            "type": "scattergl"
           }
          ],
          "scattermapbox": [
           {
            "marker": {
             "colorbar": {
              "outlinewidth": 0,
              "ticks": ""
             }
            },
            "type": "scattermapbox"
           }
          ],
          "scatterpolar": [
           {
            "marker": {
             "colorbar": {
              "outlinewidth": 0,
              "ticks": ""
             }
            },
            "type": "scatterpolar"
           }
          ],
          "scatterpolargl": [
           {
            "marker": {
             "colorbar": {
              "outlinewidth": 0,
              "ticks": ""
             }
            },
            "type": "scatterpolargl"
           }
          ],
          "scatterternary": [
           {
            "marker": {
             "colorbar": {
              "outlinewidth": 0,
              "ticks": ""
             }
            },
            "type": "scatterternary"
           }
          ],
          "surface": [
           {
            "colorbar": {
             "outlinewidth": 0,
             "ticks": ""
            },
            "colorscale": [
             [
              0,
              "#0d0887"
             ],
             [
              0.1111111111111111,
              "#46039f"
             ],
             [
              0.2222222222222222,
              "#7201a8"
             ],
             [
              0.3333333333333333,
              "#9c179e"
             ],
             [
              0.4444444444444444,
              "#bd3786"
             ],
             [
              0.5555555555555556,
              "#d8576b"
             ],
             [
              0.6666666666666666,
              "#ed7953"
             ],
             [
              0.7777777777777778,
              "#fb9f3a"
             ],
             [
              0.8888888888888888,
              "#fdca26"
             ],
             [
              1,
              "#f0f921"
             ]
            ],
            "type": "surface"
           }
          ],
          "table": [
           {
            "cells": {
             "fill": {
              "color": "#EBF0F8"
             },
             "line": {
              "color": "white"
             }
            },
            "header": {
             "fill": {
              "color": "#C8D4E3"
             },
             "line": {
              "color": "white"
             }
            },
            "type": "table"
           }
          ]
         },
         "layout": {
          "annotationdefaults": {
           "arrowcolor": "#2a3f5f",
           "arrowhead": 0,
           "arrowwidth": 1
          },
          "autotypenumbers": "strict",
          "coloraxis": {
           "colorbar": {
            "outlinewidth": 0,
            "ticks": ""
           }
          },
          "colorscale": {
           "diverging": [
            [
             0,
             "#8e0152"
            ],
            [
             0.1,
             "#c51b7d"
            ],
            [
             0.2,
             "#de77ae"
            ],
            [
             0.3,
             "#f1b6da"
            ],
            [
             0.4,
             "#fde0ef"
            ],
            [
             0.5,
             "#f7f7f7"
            ],
            [
             0.6,
             "#e6f5d0"
            ],
            [
             0.7,
             "#b8e186"
            ],
            [
             0.8,
             "#7fbc41"
            ],
            [
             0.9,
             "#4d9221"
            ],
            [
             1,
             "#276419"
            ]
           ],
           "sequential": [
            [
             0,
             "#0d0887"
            ],
            [
             0.1111111111111111,
             "#46039f"
            ],
            [
             0.2222222222222222,
             "#7201a8"
            ],
            [
             0.3333333333333333,
             "#9c179e"
            ],
            [
             0.4444444444444444,
             "#bd3786"
            ],
            [
             0.5555555555555556,
             "#d8576b"
            ],
            [
             0.6666666666666666,
             "#ed7953"
            ],
            [
             0.7777777777777778,
             "#fb9f3a"
            ],
            [
             0.8888888888888888,
             "#fdca26"
            ],
            [
             1,
             "#f0f921"
            ]
           ],
           "sequentialminus": [
            [
             0,
             "#0d0887"
            ],
            [
             0.1111111111111111,
             "#46039f"
            ],
            [
             0.2222222222222222,
             "#7201a8"
            ],
            [
             0.3333333333333333,
             "#9c179e"
            ],
            [
             0.4444444444444444,
             "#bd3786"
            ],
            [
             0.5555555555555556,
             "#d8576b"
            ],
            [
             0.6666666666666666,
             "#ed7953"
            ],
            [
             0.7777777777777778,
             "#fb9f3a"
            ],
            [
             0.8888888888888888,
             "#fdca26"
            ],
            [
             1,
             "#f0f921"
            ]
           ]
          },
          "colorway": [
           "#636efa",
           "#EF553B",
           "#00cc96",
           "#ab63fa",
           "#FFA15A",
           "#19d3f3",
           "#FF6692",
           "#B6E880",
           "#FF97FF",
           "#FECB52"
          ],
          "font": {
           "color": "#2a3f5f"
          },
          "geo": {
           "bgcolor": "white",
           "lakecolor": "white",
           "landcolor": "#E5ECF6",
           "showlakes": true,
           "showland": true,
           "subunitcolor": "white"
          },
          "hoverlabel": {
           "align": "left"
          },
          "hovermode": "closest",
          "mapbox": {
           "style": "light"
          },
          "paper_bgcolor": "white",
          "plot_bgcolor": "#E5ECF6",
          "polar": {
           "angularaxis": {
            "gridcolor": "white",
            "linecolor": "white",
            "ticks": ""
           },
           "bgcolor": "#E5ECF6",
           "radialaxis": {
            "gridcolor": "white",
            "linecolor": "white",
            "ticks": ""
           }
          },
          "scene": {
           "xaxis": {
            "backgroundcolor": "#E5ECF6",
            "gridcolor": "white",
            "gridwidth": 2,
            "linecolor": "white",
            "showbackground": true,
            "ticks": "",
            "zerolinecolor": "white"
           },
           "yaxis": {
            "backgroundcolor": "#E5ECF6",
            "gridcolor": "white",
            "gridwidth": 2,
            "linecolor": "white",
            "showbackground": true,
            "ticks": "",
            "zerolinecolor": "white"
           },
           "zaxis": {
            "backgroundcolor": "#E5ECF6",
            "gridcolor": "white",
            "gridwidth": 2,
            "linecolor": "white",
            "showbackground": true,
            "ticks": "",
            "zerolinecolor": "white"
           }
          },
          "shapedefaults": {
           "line": {
            "color": "#2a3f5f"
           }
          },
          "ternary": {
           "aaxis": {
            "gridcolor": "white",
            "linecolor": "white",
            "ticks": ""
           },
           "baxis": {
            "gridcolor": "white",
            "linecolor": "white",
            "ticks": ""
           },
           "bgcolor": "#E5ECF6",
           "caxis": {
            "gridcolor": "white",
            "linecolor": "white",
            "ticks": ""
           }
          },
          "title": {
           "x": 0.05
          },
          "xaxis": {
           "automargin": true,
           "gridcolor": "white",
           "linecolor": "white",
           "ticks": "",
           "title": {
            "standoff": 15
           },
           "zerolinecolor": "white",
           "zerolinewidth": 2
          },
          "yaxis": {
           "automargin": true,
           "gridcolor": "white",
           "linecolor": "white",
           "ticks": "",
           "title": {
            "standoff": 15
           },
           "zerolinecolor": "white",
           "zerolinewidth": 2
          }
         }
        },
        "title": {
         "text": "OFFICIAL 100Climbs No84 Hardknott Pass, 2.23 km, 15.44% average gradient."
        },
        "xaxis": {
         "anchor": "y",
         "domain": [
          0,
          1
         ],
         "title": {
          "text": "Time (minutes)"
         }
        },
        "yaxis": {
         "anchor": "x",
         "domain": [
          0,
          1
         ],
         "title": {
          "text": "w/kg"
         }
        }
       }
      }
     },
     "metadata": {},
     "output_type": "display_data"
    }
   ],
   "source": [
    "main_runner(id, access_token)\n"
   ]
  },
  {
   "cell_type": "code",
   "execution_count": 13,
   "metadata": {},
   "outputs": [],
   "source": [
    "name, lat_lon = retrieve_segment(id, access_token)"
   ]
  },
  {
   "cell_type": "code",
   "execution_count": 7,
   "metadata": {},
   "outputs": [],
   "source": [
    "lat = [x[0] for x in lat_lon]\n",
    "lon = [x[1] for x in lat_lon]"
   ]
  },
  {
   "cell_type": "code",
   "execution_count": 8,
   "metadata": {},
   "outputs": [
    {
     "data": {
      "application/vnd.plotly.v1+json": {
       "config": {
        "plotlyServerURL": "https://plot.ly"
       },
       "data": [
        {
         "geo": "geo",
         "hovertemplate": "lat=%{lat}<br>lon=%{lon}<extra></extra>",
         "lat": [
          54.39979,
          54.39971,
          54.39958,
          54.39948,
          54.39942,
          54.39938,
          54.39938,
          54.39933,
          54.39935,
          54.39943,
          54.39955,
          54.39957,
          54.39957,
          54.39964,
          54.39977,
          54.39994,
          54.4,
          54.39999,
          54.39996,
          54.39997,
          54.40006,
          54.4001,
          54.40012,
          54.40016,
          54.40023,
          54.40027,
          54.40033,
          54.40041,
          54.40046,
          54.40045,
          54.4004,
          54.40036,
          54.40033,
          54.4003,
          54.40032,
          54.40042,
          54.40045,
          54.40044,
          54.40047,
          54.40048,
          54.40053,
          54.40063,
          54.40079,
          54.40089,
          54.40095,
          54.40107,
          54.40116,
          54.40134,
          54.40144,
          54.40149,
          54.40161,
          54.40174,
          54.40208,
          54.40233,
          54.40241,
          54.40246,
          54.40243,
          54.40256,
          54.40257,
          54.40276,
          54.40269,
          54.4026,
          54.40259,
          54.40262,
          54.40267,
          54.40269,
          54.40281,
          54.4028,
          54.40281,
          54.4028,
          54.40281,
          54.40272,
          54.40271,
          54.40274,
          54.4028,
          54.40282,
          54.40282,
          54.40274,
          54.40274,
          54.40278,
          54.40286,
          54.40292,
          54.40304,
          54.40313,
          54.40318,
          54.40321,
          54.40323,
          54.40318,
          54.40316,
          54.40313,
          54.40298,
          54.40291,
          54.40293,
          54.40292,
          54.40293,
          54.40292,
          54.40282,
          54.40282,
          54.40276,
          54.40273,
          54.40273,
          54.40271,
          54.40274,
          54.40272,
          54.40274,
          54.40273,
          54.40279,
          54.40278,
          54.40278,
          54.40286,
          54.40287,
          54.40287,
          54.40283
         ],
         "legendgroup": "",
         "lon": [
          -3.2155,
          -3.21479,
          -3.21449,
          -3.21422,
          -3.21397,
          -3.21366,
          -3.21345,
          -3.21311,
          -3.21291,
          -3.21253,
          -3.21224,
          -3.21216,
          -3.21201,
          -3.21176,
          -3.21157,
          -3.21137,
          -3.21127,
          -3.21114,
          -3.21097,
          -3.21079,
          -3.21034,
          -3.21026,
          -3.21024,
          -3.21025,
          -3.21031,
          -3.21031,
          -3.21019,
          -3.20964,
          -3.20914,
          -3.20888,
          -3.20874,
          -3.20855,
          -3.20849,
          -3.20825,
          -3.20816,
          -3.20795,
          -3.20772,
          -3.20747,
          -3.20732,
          -3.20727,
          -3.20722,
          -3.20723,
          -3.20723,
          -3.20732,
          -3.20729,
          -3.20663,
          -3.206,
          -3.20517,
          -3.20434,
          -3.20417,
          -3.20394,
          -3.20356,
          -3.20227,
          -3.20176,
          -3.20168,
          -3.20149,
          -3.20096,
          -3.20013,
          -3.19978,
          -3.19891,
          -3.19842,
          -3.1981,
          -3.19793,
          -3.19769,
          -3.19742,
          -3.19708,
          -3.19653,
          -3.19603,
          -3.1959,
          -3.19566,
          -3.19537,
          -3.19479,
          -3.19461,
          -3.19453,
          -3.19447,
          -3.19434,
          -3.19426,
          -3.194,
          -3.1939,
          -3.19384,
          -3.19384,
          -3.19386,
          -3.19397,
          -3.19411,
          -3.19414,
          -3.1941,
          -3.19399,
          -3.19382,
          -3.19365,
          -3.19285,
          -3.19256,
          -3.19219,
          -3.19183,
          -3.19153,
          -3.19131,
          -3.19106,
          -3.19049,
          -3.19006,
          -3.18978,
          -3.18954,
          -3.18926,
          -3.18911,
          -3.18865,
          -3.18844,
          -3.18808,
          -3.18787,
          -3.18729,
          -3.18675,
          -3.18657,
          -3.18622,
          -3.18599,
          -3.18575,
          -3.18558
         ],
         "marker": {
          "color": "#636efa",
          "symbol": "circle"
         },
         "mode": "markers",
         "name": "",
         "showlegend": false,
         "type": "scattergeo"
        }
       ],
       "layout": {
        "geo": {
         "center": {},
         "domain": {
          "x": [
           0,
           1
          ],
          "y": [
           0,
           1
          ]
         }
        },
        "legend": {
         "tracegroupgap": 0
        },
        "margin": {
         "t": 60
        },
        "template": {
         "data": {
          "bar": [
           {
            "error_x": {
             "color": "#2a3f5f"
            },
            "error_y": {
             "color": "#2a3f5f"
            },
            "marker": {
             "line": {
              "color": "#E5ECF6",
              "width": 0.5
             },
             "pattern": {
              "fillmode": "overlay",
              "size": 10,
              "solidity": 0.2
             }
            },
            "type": "bar"
           }
          ],
          "barpolar": [
           {
            "marker": {
             "line": {
              "color": "#E5ECF6",
              "width": 0.5
             },
             "pattern": {
              "fillmode": "overlay",
              "size": 10,
              "solidity": 0.2
             }
            },
            "type": "barpolar"
           }
          ],
          "carpet": [
           {
            "aaxis": {
             "endlinecolor": "#2a3f5f",
             "gridcolor": "white",
             "linecolor": "white",
             "minorgridcolor": "white",
             "startlinecolor": "#2a3f5f"
            },
            "baxis": {
             "endlinecolor": "#2a3f5f",
             "gridcolor": "white",
             "linecolor": "white",
             "minorgridcolor": "white",
             "startlinecolor": "#2a3f5f"
            },
            "type": "carpet"
           }
          ],
          "choropleth": [
           {
            "colorbar": {
             "outlinewidth": 0,
             "ticks": ""
            },
            "type": "choropleth"
           }
          ],
          "contour": [
           {
            "colorbar": {
             "outlinewidth": 0,
             "ticks": ""
            },
            "colorscale": [
             [
              0,
              "#0d0887"
             ],
             [
              0.1111111111111111,
              "#46039f"
             ],
             [
              0.2222222222222222,
              "#7201a8"
             ],
             [
              0.3333333333333333,
              "#9c179e"
             ],
             [
              0.4444444444444444,
              "#bd3786"
             ],
             [
              0.5555555555555556,
              "#d8576b"
             ],
             [
              0.6666666666666666,
              "#ed7953"
             ],
             [
              0.7777777777777778,
              "#fb9f3a"
             ],
             [
              0.8888888888888888,
              "#fdca26"
             ],
             [
              1,
              "#f0f921"
             ]
            ],
            "type": "contour"
           }
          ],
          "contourcarpet": [
           {
            "colorbar": {
             "outlinewidth": 0,
             "ticks": ""
            },
            "type": "contourcarpet"
           }
          ],
          "heatmap": [
           {
            "colorbar": {
             "outlinewidth": 0,
             "ticks": ""
            },
            "colorscale": [
             [
              0,
              "#0d0887"
             ],
             [
              0.1111111111111111,
              "#46039f"
             ],
             [
              0.2222222222222222,
              "#7201a8"
             ],
             [
              0.3333333333333333,
              "#9c179e"
             ],
             [
              0.4444444444444444,
              "#bd3786"
             ],
             [
              0.5555555555555556,
              "#d8576b"
             ],
             [
              0.6666666666666666,
              "#ed7953"
             ],
             [
              0.7777777777777778,
              "#fb9f3a"
             ],
             [
              0.8888888888888888,
              "#fdca26"
             ],
             [
              1,
              "#f0f921"
             ]
            ],
            "type": "heatmap"
           }
          ],
          "heatmapgl": [
           {
            "colorbar": {
             "outlinewidth": 0,
             "ticks": ""
            },
            "colorscale": [
             [
              0,
              "#0d0887"
             ],
             [
              0.1111111111111111,
              "#46039f"
             ],
             [
              0.2222222222222222,
              "#7201a8"
             ],
             [
              0.3333333333333333,
              "#9c179e"
             ],
             [
              0.4444444444444444,
              "#bd3786"
             ],
             [
              0.5555555555555556,
              "#d8576b"
             ],
             [
              0.6666666666666666,
              "#ed7953"
             ],
             [
              0.7777777777777778,
              "#fb9f3a"
             ],
             [
              0.8888888888888888,
              "#fdca26"
             ],
             [
              1,
              "#f0f921"
             ]
            ],
            "type": "heatmapgl"
           }
          ],
          "histogram": [
           {
            "marker": {
             "pattern": {
              "fillmode": "overlay",
              "size": 10,
              "solidity": 0.2
             }
            },
            "type": "histogram"
           }
          ],
          "histogram2d": [
           {
            "colorbar": {
             "outlinewidth": 0,
             "ticks": ""
            },
            "colorscale": [
             [
              0,
              "#0d0887"
             ],
             [
              0.1111111111111111,
              "#46039f"
             ],
             [
              0.2222222222222222,
              "#7201a8"
             ],
             [
              0.3333333333333333,
              "#9c179e"
             ],
             [
              0.4444444444444444,
              "#bd3786"
             ],
             [
              0.5555555555555556,
              "#d8576b"
             ],
             [
              0.6666666666666666,
              "#ed7953"
             ],
             [
              0.7777777777777778,
              "#fb9f3a"
             ],
             [
              0.8888888888888888,
              "#fdca26"
             ],
             [
              1,
              "#f0f921"
             ]
            ],
            "type": "histogram2d"
           }
          ],
          "histogram2dcontour": [
           {
            "colorbar": {
             "outlinewidth": 0,
             "ticks": ""
            },
            "colorscale": [
             [
              0,
              "#0d0887"
             ],
             [
              0.1111111111111111,
              "#46039f"
             ],
             [
              0.2222222222222222,
              "#7201a8"
             ],
             [
              0.3333333333333333,
              "#9c179e"
             ],
             [
              0.4444444444444444,
              "#bd3786"
             ],
             [
              0.5555555555555556,
              "#d8576b"
             ],
             [
              0.6666666666666666,
              "#ed7953"
             ],
             [
              0.7777777777777778,
              "#fb9f3a"
             ],
             [
              0.8888888888888888,
              "#fdca26"
             ],
             [
              1,
              "#f0f921"
             ]
            ],
            "type": "histogram2dcontour"
           }
          ],
          "mesh3d": [
           {
            "colorbar": {
             "outlinewidth": 0,
             "ticks": ""
            },
            "type": "mesh3d"
           }
          ],
          "parcoords": [
           {
            "line": {
             "colorbar": {
              "outlinewidth": 0,
              "ticks": ""
             }
            },
            "type": "parcoords"
           }
          ],
          "pie": [
           {
            "automargin": true,
            "type": "pie"
           }
          ],
          "scatter": [
           {
            "marker": {
             "colorbar": {
              "outlinewidth": 0,
              "ticks": ""
             }
            },
            "type": "scatter"
           }
          ],
          "scatter3d": [
           {
            "line": {
             "colorbar": {
              "outlinewidth": 0,
              "ticks": ""
             }
            },
            "marker": {
             "colorbar": {
              "outlinewidth": 0,
              "ticks": ""
             }
            },
            "type": "scatter3d"
           }
          ],
          "scattercarpet": [
           {
            "marker": {
             "colorbar": {
              "outlinewidth": 0,
              "ticks": ""
             }
            },
            "type": "scattercarpet"
           }
          ],
          "scattergeo": [
           {
            "marker": {
             "colorbar": {
              "outlinewidth": 0,
              "ticks": ""
             }
            },
            "type": "scattergeo"
           }
          ],
          "scattergl": [
           {
            "marker": {
             "colorbar": {
              "outlinewidth": 0,
              "ticks": ""
             }
            },
            "type": "scattergl"
           }
          ],
          "scattermapbox": [
           {
            "marker": {
             "colorbar": {
              "outlinewidth": 0,
              "ticks": ""
             }
            },
            "type": "scattermapbox"
           }
          ],
          "scatterpolar": [
           {
            "marker": {
             "colorbar": {
              "outlinewidth": 0,
              "ticks": ""
             }
            },
            "type": "scatterpolar"
           }
          ],
          "scatterpolargl": [
           {
            "marker": {
             "colorbar": {
              "outlinewidth": 0,
              "ticks": ""
             }
            },
            "type": "scatterpolargl"
           }
          ],
          "scatterternary": [
           {
            "marker": {
             "colorbar": {
              "outlinewidth": 0,
              "ticks": ""
             }
            },
            "type": "scatterternary"
           }
          ],
          "surface": [
           {
            "colorbar": {
             "outlinewidth": 0,
             "ticks": ""
            },
            "colorscale": [
             [
              0,
              "#0d0887"
             ],
             [
              0.1111111111111111,
              "#46039f"
             ],
             [
              0.2222222222222222,
              "#7201a8"
             ],
             [
              0.3333333333333333,
              "#9c179e"
             ],
             [
              0.4444444444444444,
              "#bd3786"
             ],
             [
              0.5555555555555556,
              "#d8576b"
             ],
             [
              0.6666666666666666,
              "#ed7953"
             ],
             [
              0.7777777777777778,
              "#fb9f3a"
             ],
             [
              0.8888888888888888,
              "#fdca26"
             ],
             [
              1,
              "#f0f921"
             ]
            ],
            "type": "surface"
           }
          ],
          "table": [
           {
            "cells": {
             "fill": {
              "color": "#EBF0F8"
             },
             "line": {
              "color": "white"
             }
            },
            "header": {
             "fill": {
              "color": "#C8D4E3"
             },
             "line": {
              "color": "white"
             }
            },
            "type": "table"
           }
          ]
         },
         "layout": {
          "annotationdefaults": {
           "arrowcolor": "#2a3f5f",
           "arrowhead": 0,
           "arrowwidth": 1
          },
          "autotypenumbers": "strict",
          "coloraxis": {
           "colorbar": {
            "outlinewidth": 0,
            "ticks": ""
           }
          },
          "colorscale": {
           "diverging": [
            [
             0,
             "#8e0152"
            ],
            [
             0.1,
             "#c51b7d"
            ],
            [
             0.2,
             "#de77ae"
            ],
            [
             0.3,
             "#f1b6da"
            ],
            [
             0.4,
             "#fde0ef"
            ],
            [
             0.5,
             "#f7f7f7"
            ],
            [
             0.6,
             "#e6f5d0"
            ],
            [
             0.7,
             "#b8e186"
            ],
            [
             0.8,
             "#7fbc41"
            ],
            [
             0.9,
             "#4d9221"
            ],
            [
             1,
             "#276419"
            ]
           ],
           "sequential": [
            [
             0,
             "#0d0887"
            ],
            [
             0.1111111111111111,
             "#46039f"
            ],
            [
             0.2222222222222222,
             "#7201a8"
            ],
            [
             0.3333333333333333,
             "#9c179e"
            ],
            [
             0.4444444444444444,
             "#bd3786"
            ],
            [
             0.5555555555555556,
             "#d8576b"
            ],
            [
             0.6666666666666666,
             "#ed7953"
            ],
            [
             0.7777777777777778,
             "#fb9f3a"
            ],
            [
             0.8888888888888888,
             "#fdca26"
            ],
            [
             1,
             "#f0f921"
            ]
           ],
           "sequentialminus": [
            [
             0,
             "#0d0887"
            ],
            [
             0.1111111111111111,
             "#46039f"
            ],
            [
             0.2222222222222222,
             "#7201a8"
            ],
            [
             0.3333333333333333,
             "#9c179e"
            ],
            [
             0.4444444444444444,
             "#bd3786"
            ],
            [
             0.5555555555555556,
             "#d8576b"
            ],
            [
             0.6666666666666666,
             "#ed7953"
            ],
            [
             0.7777777777777778,
             "#fb9f3a"
            ],
            [
             0.8888888888888888,
             "#fdca26"
            ],
            [
             1,
             "#f0f921"
            ]
           ]
          },
          "colorway": [
           "#636efa",
           "#EF553B",
           "#00cc96",
           "#ab63fa",
           "#FFA15A",
           "#19d3f3",
           "#FF6692",
           "#B6E880",
           "#FF97FF",
           "#FECB52"
          ],
          "font": {
           "color": "#2a3f5f"
          },
          "geo": {
           "bgcolor": "white",
           "lakecolor": "white",
           "landcolor": "#E5ECF6",
           "showlakes": true,
           "showland": true,
           "subunitcolor": "white"
          },
          "hoverlabel": {
           "align": "left"
          },
          "hovermode": "closest",
          "mapbox": {
           "style": "light"
          },
          "paper_bgcolor": "white",
          "plot_bgcolor": "#E5ECF6",
          "polar": {
           "angularaxis": {
            "gridcolor": "white",
            "linecolor": "white",
            "ticks": ""
           },
           "bgcolor": "#E5ECF6",
           "radialaxis": {
            "gridcolor": "white",
            "linecolor": "white",
            "ticks": ""
           }
          },
          "scene": {
           "xaxis": {
            "backgroundcolor": "#E5ECF6",
            "gridcolor": "white",
            "gridwidth": 2,
            "linecolor": "white",
            "showbackground": true,
            "ticks": "",
            "zerolinecolor": "white"
           },
           "yaxis": {
            "backgroundcolor": "#E5ECF6",
            "gridcolor": "white",
            "gridwidth": 2,
            "linecolor": "white",
            "showbackground": true,
            "ticks": "",
            "zerolinecolor": "white"
           },
           "zaxis": {
            "backgroundcolor": "#E5ECF6",
            "gridcolor": "white",
            "gridwidth": 2,
            "linecolor": "white",
            "showbackground": true,
            "ticks": "",
            "zerolinecolor": "white"
           }
          },
          "shapedefaults": {
           "line": {
            "color": "#2a3f5f"
           }
          },
          "ternary": {
           "aaxis": {
            "gridcolor": "white",
            "linecolor": "white",
            "ticks": ""
           },
           "baxis": {
            "gridcolor": "white",
            "linecolor": "white",
            "ticks": ""
           },
           "bgcolor": "#E5ECF6",
           "caxis": {
            "gridcolor": "white",
            "linecolor": "white",
            "ticks": ""
           }
          },
          "title": {
           "x": 0.05
          },
          "xaxis": {
           "automargin": true,
           "gridcolor": "white",
           "linecolor": "white",
           "ticks": "",
           "title": {
            "standoff": 15
           },
           "zerolinecolor": "white",
           "zerolinewidth": 2
          },
          "yaxis": {
           "automargin": true,
           "gridcolor": "white",
           "linecolor": "white",
           "ticks": "",
           "title": {
            "standoff": 15
           },
           "zerolinecolor": "white",
           "zerolinewidth": 2
          }
         }
        }
       }
      }
     },
     "metadata": {},
     "output_type": "display_data"
    }
   ],
   "source": [
    "fig = px.scatter_geo(lat = lat, lon = lon)\n",
    "fig.show()"
   ]
  },
  {
   "cell_type": "code",
   "execution_count": null,
   "metadata": {},
   "outputs": [],
   "source": []
  }
 ],
 "metadata": {
  "interpreter": {
   "hash": "294fa65e5b820699849365cb94a0ca53b5587580e18529403c62e3fc1028bc3e"
  },
  "kernelspec": {
   "display_name": "Python 3.7.4 ('base')",
   "language": "python",
   "name": "python3"
  },
  "language_info": {
   "codemirror_mode": {
    "name": "ipython",
    "version": 3
   },
   "file_extension": ".py",
   "mimetype": "text/x-python",
   "name": "python",
   "nbconvert_exporter": "python",
   "pygments_lexer": "ipython3",
   "version": "3.9.7"
  },
  "orig_nbformat": 4
 },
 "nbformat": 4,
 "nbformat_minor": 2
}
