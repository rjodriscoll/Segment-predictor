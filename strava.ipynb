{
 "cells": [
  {
   "cell_type": "code",
   "execution_count": 88,
   "metadata": {},
   "outputs": [],
   "source": [
    "import requests\n",
    "import json\n",
    "from strava_api_details import * \n",
    "import os \n",
    "from typing import Dict\n",
    "from tqdm import tqdm\n",
    "import urllib\n",
    "import pandas as pd\n",
    "import polyline\n",
    "from geopy import distance\n",
    "from math import sin, cos, sqrt, atan2, radians\n",
    "\n",
    "id = 701809\n",
    "\n",
    "\n",
    "def return_segment_api(id: int, access_token:str) -> None:\n",
    "    os.system(f\"curl -X GET https://www.strava.com/api/v3/segments/{id} -H 'Authorization: Bearer {access_token}' -o segment_{id}.JSON\")\n",
    "\n",
    "\n",
    "return_segment_api(id, access_token)\n",
    "def return_segment_local(id, access_token) -> Dict:\n",
    "    with open(f'segment_{id}.JSON') as f:\n",
    "        json_data = json.load(f)\n",
    "    return json_data\n",
    "\n",
    "\n",
    "def get_params_from_segment(segment):\n",
    "    return segment['name'], segment['average_grade'], segment['maximum_grade'], polyline.decode(segment['map']['polyline'])\n",
    "\n",
    "def make_remote_request(url: str, params: dict):\n",
    "\n",
    "   count = 1\n",
    "   while True:\n",
    "       try:\n",
    "           response = requests.get((url + urllib.parse.urlencode(params)))\n",
    "       except (OSError, urllib3.exceptions.ProtocolError) as error:\n",
    "           print('\\n')\n",
    "           print('*' * 20, 'Error Occured', '*' * 20)\n",
    "           print(f'Number of tries: {count}')\n",
    "           print(f'URL: {url}')\n",
    "           print(error)\n",
    "           print('\\n')\n",
    "           count += 1\n",
    "           continue\n",
    "       break\n",
    "\n",
    "   return response\n",
    "\n",
    "\n",
    "def elevation_function(lat, lon):\n",
    "   url = 'https://api.opentopodata.org/v1/eudem25m?'\n",
    "   params = {'locations': f\"{lat},{lon}\"}\n",
    "   result = make_remote_request(url, params)\n",
    "   return result.json()['results'][0]['elevation']\n",
    "\n",
    "def get_distance(point1, point2):\n",
    "    return distance.distance(point1, point2).km"
   ]
  },
  {
   "cell_type": "code",
   "execution_count": 95,
   "metadata": {},
   "outputs": [],
   "source": [
    "point1 = [-53.148000,32.585000]\n",
    "point2 = [-53.154000, 32.587000]"
   ]
  },
  {
   "cell_type": "code",
   "execution_count": 96,
   "metadata": {},
   "outputs": [
    {
     "name": "stdout",
     "output_type": "stream",
     "text": [
      "0.6810091771472929\n"
     ]
    }
   ],
   "source": [
    "print("
   ]
  },
  {
   "cell_type": "code",
   "execution_count": null,
   "metadata": {},
   "outputs": [],
   "source": []
  }
 ],
 "metadata": {
  "interpreter": {
   "hash": "294fa65e5b820699849365cb94a0ca53b5587580e18529403c62e3fc1028bc3e"
  },
  "kernelspec": {
   "display_name": "Python 3.7.4 ('base')",
   "language": "python",
   "name": "python3"
  },
  "language_info": {
   "codemirror_mode": {
    "name": "ipython",
    "version": 3
   },
   "file_extension": ".py",
   "mimetype": "text/x-python",
   "name": "python",
   "nbconvert_exporter": "python",
   "pygments_lexer": "ipython3",
   "version": "3.7.4"
  },
  "orig_nbformat": 4
 },
 "nbformat": 4,
 "nbformat_minor": 2
}
