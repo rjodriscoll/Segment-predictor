{
 "cells": [
  {
   "cell_type": "code",
   "execution_count": 12,
   "metadata": {},
   "outputs": [],
   "source": [
    "import requests\n",
    "from requests.structures import CaseInsensitiveDict\n",
    "import json\n",
    "import numpy as np\n",
    "from strava_key_gen import access_token\n",
    "from typing import Dict, Tuple\n",
    "import pandas as pd\n",
    "import polyline\n",
    "from geopy import distance\n",
    "import os \n",
    "\n",
    "id = 5270481\n",
    "\n",
    "\n",
    "# retrieve class \n",
    "\n",
    "def check_if_segment_in_db(id:int) -> bool:\n",
    "    return str(id) in os.listdir()\n",
    "\n",
    "def return_segment_from_api(id: int, access_token: str) -> None:\n",
    "    url = f\"https://www.strava.com/api/v3/segments/{id}\"\n",
    "    headers = CaseInsensitiveDict()\n",
    "    headers[\"Authorization\"] = f\"Bearer {access_token}\"\n",
    "    resp = requests.get(url, headers=headers)\n",
    "    if not check_if_segment_in_db(id):\n",
    "        os.mkdir(str(id))\n",
    "    with open(str(id) + '/strava_json.json', 'w') as f:\n",
    "        json.dump(resp.json(), f)\n",
    "\n",
    "def get_name_lat_lon_from_segment_from_json(id:int) ->Tuple[str,list]:\n",
    "    f = open(str(id) + '/strava_json.json')\n",
    "    segment = json.load(f)\n",
    "    return segment['name'], polyline.decode(segment['map']['polyline']) \n",
    "\n",
    "def retrieve_segment(id: int, access_token:str) -> list:\n",
    "    if not check_if_segment_in_db(id):\n",
    "        return_segment_from_api(id, access_token)\n",
    "    return get_name_lat_lon_from_segment_from_json(id)\n",
    "\n",
    "\n",
    "\n",
    "\n",
    "\n",
    "\n",
    "def build_api_call_string(lat_lon):\n",
    "    length = len(lat_lon)\n",
    "    iterations =int(np.ceil(length/100))\n",
    "    start, end = 0, 99\n",
    "    string_lists = []\n",
    "    for i in range(iterations):\n",
    "        string = ''\n",
    "        for j in range(start, end):\n",
    "            lat, lon = lat_lon[j][0], lat_lon[j][1]\n",
    "            string += str(lat) + ',' + str(lon)+ '|'\n",
    "        string_lists.append(string[:-1]) # drop the last pipe\n",
    "        start += 100\n",
    "        \n",
    "        if end + 100 > len(lat_lon):\n",
    "            end = len(lat_lon) \n",
    "        else:\n",
    "            end += 100\n",
    "    \n",
    "    return string_lists\n",
    "\n",
    "# elevations and lat lons \n",
    "def get_elevations_lat_lon(string: str):\n",
    "    url = f\"https://api.opentopodata.org/v1/eudem25m?locations={string}\"\n",
    "    resp = requests.get(url)\n",
    "    resp = resp.json()['results']\n",
    "    result_list = []\n",
    "    for i in range(len(resp)):\n",
    "        result_list.append([resp[i]['elevation'], resp[i]['location']['lat'], resp[i]['location']['lng']])\n",
    "    return result_list\n",
    "\n",
    "def check_if_elevation_lat_lon_exists(id):\n",
    "    return os.path.exists(str(id)+ '/' + 'elevation_lat_lon.npy') \n",
    "\n",
    "\n",
    "def run_api_calls(name:str, lat_lon: list) -> np.array:\n",
    "    if not check_if_elevation_lat_lon_exists(id):\n",
    "        print(f\"getting data for {name}\")\n",
    "        calls = build_api_call_string(lat_lon)\n",
    "        result_list = []\n",
    "        for call in calls:\n",
    "            result_list += get_elevations_lat_lon(call)\n",
    "        ell_np=np.array([np.array(xi) for xi in result_list])\n",
    "        np.save(str(id)+'/elevation_lat_lon.npy', ell_np)\n",
    "        return ell_np\n",
    "\n",
    "    ell_np = np.load(str(id)+'/elevation_lat_lon.npy')\n",
    "    return ell_np\n",
    "\n",
    "\n",
    "\n",
    "# deltas \n",
    "def check_if_rise_run_grade_exists(id):\n",
    "    return os.path.exists(str(id)+ '/' + 'rise_run_grade.npy') \n",
    "\n",
    "def get_distance_delta(point1: list, point2: list) -> float:\n",
    "    return distance.distance(point1, point2).km * 1000 # return delta in meters \n",
    "\n",
    "def get_elevation_delta(point1_elev, point2_elev) -> float:\n",
    "    return point2_elev - point1_elev\n",
    "\n",
    "def get_rise_run_grade(seg_data: np.array):\n",
    "    if not check_if_rise_run_grade_exists(id):\n",
    "        rrg_np= np.empty((0, 3), float)\n",
    "        for i in range(len(seg_data)-1):\n",
    "            run = get_distance_delta(seg_data[i][1:3], seg_data[i+1][1:3])\n",
    "            rise = get_elevation_delta(seg_data[i][0], seg_data[i+1][0])\n",
    "\n",
    "            rrg_np = np.append(rrg_np, np.array([[rise, run,  rise/run *100]]), axis=0)\n",
    "        \n",
    "        np.save(str(id)+'/rise_run_grade.npy', rrg_np)\n",
    "        return rrg_np\n",
    "\n",
    "    rrg_np = np.load(str(id)+'/rise_run_grade.npy')\n",
    "    return rrg_np"
   ]
  },
  {
   "cell_type": "code",
   "execution_count": 13,
   "metadata": {},
   "outputs": [
    {
     "name": "stdout",
     "output_type": "stream",
     "text": [
      "getting data for Cumbre Del Sol - Full climb\n"
     ]
    }
   ],
   "source": [
    "name, lat_lon = retrieve_segment(id, access_token)\n",
    "ar = run_api_calls(name, lat_lon)\n",
    "b = get_rise_run_grade(ar)"
   ]
  },
  {
   "cell_type": "code",
   "execution_count": 14,
   "metadata": {},
   "outputs": [],
   "source": [
    "from physics.params import rider_weight,frontal_area,coef_drag,grade,weight_else,coef_rolling_resistance,air_density,coef_drag,drive_losses\n",
    "from physics.functions import get_power_given_speed, converge_on_speed_given_power"
   ]
  },
  {
   "cell_type": "code",
   "execution_count": 46,
   "metadata": {},
   "outputs": [],
   "source": [
    "def get_time_to_complete_seconds(distance: float, speed: float):\n",
    "    \"\"\" distance is expressed in metres, speed is expressed in kmh.\n",
    "    \"\"\"\n",
    "    time = 3600 * (distance / 1000)/speed\n",
    "    return time\n",
    "\n",
    "    \n",
    "def get_time_in_array(target_power, distance, grade):\n",
    "\n",
    "    speed = converge_on_speed_given_power(target_power = target_power, \n",
    "        grade = grade,\n",
    "        rider_weight = rider_weight,\n",
    "        weight_else = weight_else,\n",
    "        coef_rolling_resistance = coef_rolling_resistance,\n",
    "        air_density = air_density,\n",
    "        frontal_area = frontal_area,\n",
    "        coef_drag = coef_drag,\n",
    "        drive_losses = drive_losses) \n",
    "\n",
    "    return get_time_to_complete_seconds(distance, speed)\n",
    "    "
   ]
  },
  {
   "cell_type": "code",
   "execution_count": 49,
   "metadata": {},
   "outputs": [],
   "source": [
    "gain = b[1][0]\n",
    "distance = b[1][1] \n",
    "grade = b[1][2]\n",
    "target_power = 300"
   ]
  },
  {
   "cell_type": "code",
   "execution_count": null,
   "metadata": {},
   "outputs": [],
   "source": [
    "\n",
    "def converge_on_speed_given_power(target_power:float, grade: float,\n",
    "    rider_weight: float,\n",
    "    weight_else: float,\n",
    "    coef_rolling_resistance: float,\n",
    "    air_density: float,\n",
    "    frontal_area: float,\n",
    "    coef_drag: float,\n",
    "    drive_losses: float):\n",
    "\n",
    "    lower, upper = target_power * 0.99, target_power * 1.01\n",
    "    speed_min, speed_max = 1, 100\n",
    "    speed = 1\n",
    "    power = 1\n",
    "\n",
    "    while not (power > lower and power < upper):\n",
    "\n",
    "        if power <= lower:\n",
    "            speed_min = speed\n",
    "            speed = np.mean([speed, speed_max])\n",
    "        if power >= upper:\n",
    "            speed_max = speed\n",
    "            speed = np.mean([speed, speed_min])\n",
    "\n",
    "        power = get_power_given_speed(\n",
    "            grade=grade,\n",
    "            rider_weight=rider_weight,\n",
    "            weight_else=weight_else,\n",
    "            coef_rolling_resistance=coef_rolling_resistance,\n",
    "            air_density=air_density,\n",
    "            frontal_area=frontal_area,\n",
    "            coef_drag=coef_drag,\n",
    "            drive_losses=drive_losses,\n",
    "            speed=speed,\n",
    "        )\n",
    "\n",
    "        if power >= lower and power <= upper:\n",
    "            return speed    \n"
   ]
  },
  {
   "cell_type": "code",
   "execution_count": 61,
   "metadata": {},
   "outputs": [
    {
     "data": {
      "text/plain": [
       "(6.1904340541319565, -31.086308723727978)"
      ]
     },
     "execution_count": 61,
     "metadata": {},
     "output_type": "execute_result"
    }
   ],
   "source": [
    "distance, grade"
   ]
  },
  {
   "cell_type": "code",
   "execution_count": 62,
   "metadata": {},
   "outputs": [],
   "source": [
    "\n",
    "def converge_on_speed_given_power(target_power:float, grade: float,\n",
    "    rider_weight: float,\n",
    "    weight_else: float,\n",
    "    coef_rolling_resistance: float,\n",
    "    air_density: float,\n",
    "    frontal_area: float,\n",
    "    coef_drag: float,\n",
    "    drive_losses: float):\n",
    "\n",
    "    lower, upper = target_power * 0.99, target_power * 1.01\n",
    "    speed_min, speed_max = 1, 60\n",
    "    speed = 1\n",
    "    power = 1\n",
    "\n",
    "    \n",
    "    while not (power > lower and power < upper):\n",
    "\n",
    "        print('power = ', 'speed =', speed)\n",
    "\n",
    "        if power <= lower:\n",
    "            speed_min = speed\n",
    "            speed = np.mean([speed, speed_max])\n",
    "        if power >= upper:\n",
    "            speed_max = speed\n",
    "            speed = np.mean([speed, speed_min])\n",
    "\n",
    "        power = get_power_given_speed(\n",
    "            grade=grade,\n",
    "            rider_weight=rider_weight,\n",
    "            weight_else=weight_else,\n",
    "            coef_rolling_resistance=coef_rolling_resistance,\n",
    "            air_density=air_density,\n",
    "            frontal_area=frontal_area,\n",
    "            coef_drag=coef_drag,\n",
    "            drive_losses=drive_losses,\n",
    "            speed=speed,\n",
    "        )\n",
    "\n",
    "        counter += 1\n",
    "        if power >= lower and power <= upper:\n",
    "            return speed    \n",
    "        \n",
    "        if speed > 59: \n",
    "            return speed\n"
   ]
  },
  {
   "cell_type": "code",
   "execution_count": 63,
   "metadata": {},
   "outputs": [
    {
     "name": "stdout",
     "output_type": "stream",
     "text": [
      "power =  speed = 1\n",
      "power =  speed = 50.5\n",
      "power =  speed = 75.25\n",
      "power =  speed = 87.625\n",
      "power =  speed = 93.8125\n",
      "power =  speed = 96.90625\n",
      "power =  speed = 98.453125\n",
      "power =  speed = 99.2265625\n",
      "power =  speed = 99.61328125\n",
      "power =  speed = 99.806640625\n",
      "power =  speed = 99.9033203125\n",
      "power =  speed = 99.95166015625\n",
      "power =  speed = 99.975830078125\n",
      "power =  speed = 99.9879150390625\n",
      "power =  speed = 99.99395751953125\n",
      "power =  speed = 99.99697875976562\n",
      "power =  speed = 99.99848937988281\n",
      "power =  speed = 99.9992446899414\n",
      "power =  speed = 99.9996223449707\n",
      "power =  speed = 99.99981117248535\n",
      "power =  speed = 99.99990558624268\n",
      "power =  speed = 99.99995279312134\n",
      "power =  speed = 99.99997639656067\n",
      "power =  speed = 99.99998819828033\n",
      "power =  speed = 99.99999409914017\n",
      "power =  speed = 99.99999704957008\n"
     ]
    }
   ],
   "source": [
    "distance, grade = b[i, 1], b[i,2]\n",
    "speed = converge_on_speed_given_power(target_power = target_power, \n",
    "        grade = grade,\n",
    "        rider_weight = rider_weight,\n",
    "        weight_else = weight_else,\n",
    "        coef_rolling_resistance = coef_rolling_resistance,\n",
    "        air_density = air_density,\n",
    "        frontal_area = frontal_area,\n",
    "        coef_drag = coef_drag,\n",
    "        drive_losses = drive_losses) \n",
    "\n",
    "# get_time_to_complete_seconds(distance, speed)"
   ]
  },
  {
   "cell_type": "code",
   "execution_count": 57,
   "metadata": {},
   "outputs": [
    {
     "data": {
      "text/plain": [
       "20.72265625"
      ]
     },
     "execution_count": 57,
     "metadata": {},
     "output_type": "execute_result"
    }
   ],
   "source": [
    "speed"
   ]
  },
  {
   "cell_type": "code",
   "execution_count": 54,
   "metadata": {},
   "outputs": [
    {
     "name": "stdout",
     "output_type": "stream",
     "text": [
      "0\n",
      "1\n",
      "2\n",
      "3\n",
      "4\n",
      "5\n",
      "6\n",
      "7\n",
      "8\n",
      "9\n",
      "10\n",
      "11\n",
      "12\n",
      "13\n",
      "14\n",
      "15\n",
      "16\n",
      "17\n",
      "18\n",
      "19\n",
      "20\n",
      "21\n"
     ]
    },
    {
     "ename": "KeyboardInterrupt",
     "evalue": "",
     "output_type": "error",
     "traceback": [
      "\u001b[1;31m---------------------------------------------------------------------------\u001b[0m",
      "\u001b[1;31mKeyboardInterrupt\u001b[0m                         Traceback (most recent call last)",
      "\u001b[1;32mg:\\My Drive\\Projects\\Segment-predictor\\strava.ipynb Cell 6'\u001b[0m in \u001b[0;36m<cell line: 1>\u001b[1;34m()\u001b[0m\n\u001b[0;32m      <a href='vscode-notebook-cell:/g%3A/My%20Drive/Projects/Segment-predictor/strava.ipynb#ch0000020?line=0'>1</a>\u001b[0m \u001b[39mfor\u001b[39;00m i \u001b[39min\u001b[39;00m \u001b[39mrange\u001b[39m(\u001b[39mlen\u001b[39m(b)):\n\u001b[0;32m      <a href='vscode-notebook-cell:/g%3A/My%20Drive/Projects/Segment-predictor/strava.ipynb#ch0000020?line=1'>2</a>\u001b[0m     \u001b[39mprint\u001b[39m(i)\n\u001b[1;32m----> <a href='vscode-notebook-cell:/g%3A/My%20Drive/Projects/Segment-predictor/strava.ipynb#ch0000020?line=2'>3</a>\u001b[0m     get_time_in_array(target_power, b[i, \u001b[39m1\u001b[39;49m], b[i,\u001b[39m2\u001b[39;49m])\n",
      "\u001b[1;32mg:\\My Drive\\Projects\\Segment-predictor\\strava.ipynb Cell 4'\u001b[0m in \u001b[0;36mget_time_in_array\u001b[1;34m(target_power, distance, grade)\u001b[0m\n\u001b[0;32m      <a href='vscode-notebook-cell:/g%3A/My%20Drive/Projects/Segment-predictor/strava.ipynb#ch0000011?line=7'>8</a>\u001b[0m \u001b[39mdef\u001b[39;00m \u001b[39mget_time_in_array\u001b[39m(target_power, distance, grade):\n\u001b[1;32m---> <a href='vscode-notebook-cell:/g%3A/My%20Drive/Projects/Segment-predictor/strava.ipynb#ch0000011?line=9'>10</a>\u001b[0m     speed \u001b[39m=\u001b[39m converge_on_speed_given_power(target_power \u001b[39m=\u001b[39;49m target_power, \n\u001b[0;32m     <a href='vscode-notebook-cell:/g%3A/My%20Drive/Projects/Segment-predictor/strava.ipynb#ch0000011?line=10'>11</a>\u001b[0m         grade \u001b[39m=\u001b[39;49m grade,\n\u001b[0;32m     <a href='vscode-notebook-cell:/g%3A/My%20Drive/Projects/Segment-predictor/strava.ipynb#ch0000011?line=11'>12</a>\u001b[0m         rider_weight \u001b[39m=\u001b[39;49m rider_weight,\n\u001b[0;32m     <a href='vscode-notebook-cell:/g%3A/My%20Drive/Projects/Segment-predictor/strava.ipynb#ch0000011?line=12'>13</a>\u001b[0m         weight_else \u001b[39m=\u001b[39;49m weight_else,\n\u001b[0;32m     <a href='vscode-notebook-cell:/g%3A/My%20Drive/Projects/Segment-predictor/strava.ipynb#ch0000011?line=13'>14</a>\u001b[0m         coef_rolling_resistance \u001b[39m=\u001b[39;49m coef_rolling_resistance,\n\u001b[0;32m     <a href='vscode-notebook-cell:/g%3A/My%20Drive/Projects/Segment-predictor/strava.ipynb#ch0000011?line=14'>15</a>\u001b[0m         air_density \u001b[39m=\u001b[39;49m air_density,\n\u001b[0;32m     <a href='vscode-notebook-cell:/g%3A/My%20Drive/Projects/Segment-predictor/strava.ipynb#ch0000011?line=15'>16</a>\u001b[0m         frontal_area \u001b[39m=\u001b[39;49m frontal_area,\n\u001b[0;32m     <a href='vscode-notebook-cell:/g%3A/My%20Drive/Projects/Segment-predictor/strava.ipynb#ch0000011?line=16'>17</a>\u001b[0m         coef_drag \u001b[39m=\u001b[39;49m coef_drag,\n\u001b[0;32m     <a href='vscode-notebook-cell:/g%3A/My%20Drive/Projects/Segment-predictor/strava.ipynb#ch0000011?line=17'>18</a>\u001b[0m         drive_losses \u001b[39m=\u001b[39;49m drive_losses) \n\u001b[0;32m     <a href='vscode-notebook-cell:/g%3A/My%20Drive/Projects/Segment-predictor/strava.ipynb#ch0000011?line=19'>20</a>\u001b[0m     \u001b[39mreturn\u001b[39;00m get_time_to_complete_seconds(distance, speed)\n",
      "File \u001b[1;32mg:\\My Drive\\Projects\\Segment-predictor\\physics\\functions.py:57\u001b[0m, in \u001b[0;36mconverge_on_speed_given_power\u001b[1;34m(target_power, grade, rider_weight, weight_else, coef_rolling_resistance, air_density, frontal_area, coef_drag, drive_losses)\u001b[0m\n\u001b[0;32m     <a href='file:///g%3A/My%20Drive/Projects/Segment-predictor/physics/functions.py?line=53'>54</a>\u001b[0m     speed_max \u001b[39m=\u001b[39m speed\n\u001b[0;32m     <a href='file:///g%3A/My%20Drive/Projects/Segment-predictor/physics/functions.py?line=54'>55</a>\u001b[0m     speed \u001b[39m=\u001b[39m np\u001b[39m.\u001b[39mmean([speed, speed_min])\n\u001b[1;32m---> <a href='file:///g%3A/My%20Drive/Projects/Segment-predictor/physics/functions.py?line=56'>57</a>\u001b[0m power \u001b[39m=\u001b[39m get_power_given_speed(\n\u001b[0;32m     <a href='file:///g%3A/My%20Drive/Projects/Segment-predictor/physics/functions.py?line=57'>58</a>\u001b[0m     grade\u001b[39m=\u001b[39;49mgrade,\n\u001b[0;32m     <a href='file:///g%3A/My%20Drive/Projects/Segment-predictor/physics/functions.py?line=58'>59</a>\u001b[0m     rider_weight\u001b[39m=\u001b[39;49mrider_weight,\n\u001b[0;32m     <a href='file:///g%3A/My%20Drive/Projects/Segment-predictor/physics/functions.py?line=59'>60</a>\u001b[0m     weight_else\u001b[39m=\u001b[39;49mweight_else,\n\u001b[0;32m     <a href='file:///g%3A/My%20Drive/Projects/Segment-predictor/physics/functions.py?line=60'>61</a>\u001b[0m     coef_rolling_resistance\u001b[39m=\u001b[39;49mcoef_rolling_resistance,\n\u001b[0;32m     <a href='file:///g%3A/My%20Drive/Projects/Segment-predictor/physics/functions.py?line=61'>62</a>\u001b[0m     air_density\u001b[39m=\u001b[39;49mair_density,\n\u001b[0;32m     <a href='file:///g%3A/My%20Drive/Projects/Segment-predictor/physics/functions.py?line=62'>63</a>\u001b[0m     frontal_area\u001b[39m=\u001b[39;49mfrontal_area,\n\u001b[0;32m     <a href='file:///g%3A/My%20Drive/Projects/Segment-predictor/physics/functions.py?line=63'>64</a>\u001b[0m     coef_drag\u001b[39m=\u001b[39;49mcoef_drag,\n\u001b[0;32m     <a href='file:///g%3A/My%20Drive/Projects/Segment-predictor/physics/functions.py?line=64'>65</a>\u001b[0m     drive_losses\u001b[39m=\u001b[39;49mdrive_losses,\n\u001b[0;32m     <a href='file:///g%3A/My%20Drive/Projects/Segment-predictor/physics/functions.py?line=65'>66</a>\u001b[0m     speed\u001b[39m=\u001b[39;49mspeed,\n\u001b[0;32m     <a href='file:///g%3A/My%20Drive/Projects/Segment-predictor/physics/functions.py?line=66'>67</a>\u001b[0m )\n\u001b[0;32m     <a href='file:///g%3A/My%20Drive/Projects/Segment-predictor/physics/functions.py?line=68'>69</a>\u001b[0m \u001b[39mif\u001b[39;00m power \u001b[39m>\u001b[39m\u001b[39m=\u001b[39m lower \u001b[39mand\u001b[39;00m power \u001b[39m<\u001b[39m\u001b[39m=\u001b[39m upper:\n\u001b[0;32m     <a href='file:///g%3A/My%20Drive/Projects/Segment-predictor/physics/functions.py?line=69'>70</a>\u001b[0m     \u001b[39mreturn\u001b[39;00m speed\n",
      "File \u001b[1;32mg:\\My Drive\\Projects\\Segment-predictor\\physics\\functions.py:20\u001b[0m, in \u001b[0;36mget_power_given_speed\u001b[1;34m(grade, rider_weight, weight_else, coef_rolling_resistance, air_density, frontal_area, coef_drag, drive_losses, speed)\u001b[0m\n\u001b[0;32m     <a href='file:///g%3A/My%20Drive/Projects/Segment-predictor/physics/functions.py?line=16'>17</a>\u001b[0m weight_total \u001b[39m=\u001b[39m rider_weight \u001b[39m+\u001b[39m weight_else\n\u001b[0;32m     <a href='file:///g%3A/My%20Drive/Projects/Segment-predictor/physics/functions.py?line=17'>18</a>\u001b[0m velocity \u001b[39m=\u001b[39m speed \u001b[39m/\u001b[39m \u001b[39m3.6\u001b[39m\n\u001b[1;32m---> <a href='file:///g%3A/My%20Drive/Projects/Segment-predictor/physics/functions.py?line=19'>20</a>\u001b[0m f_gravity \u001b[39m=\u001b[39m \u001b[39m9.8067\u001b[39;49m \u001b[39m*\u001b[39;49m np\u001b[39m.\u001b[39;49msinh(np\u001b[39m.\u001b[39;49marctan(grade \u001b[39m/\u001b[39;49m \u001b[39m100\u001b[39;49m)) \u001b[39m*\u001b[39m weight_total\n\u001b[0;32m     <a href='file:///g%3A/My%20Drive/Projects/Segment-predictor/physics/functions.py?line=20'>21</a>\u001b[0m f_rolling \u001b[39m=\u001b[39m (\n\u001b[0;32m     <a href='file:///g%3A/My%20Drive/Projects/Segment-predictor/physics/functions.py?line=21'>22</a>\u001b[0m     \u001b[39m9.8067\u001b[39m\n\u001b[0;32m     <a href='file:///g%3A/My%20Drive/Projects/Segment-predictor/physics/functions.py?line=22'>23</a>\u001b[0m     \u001b[39m*\u001b[39m np\u001b[39m.\u001b[39mcosh(np\u001b[39m.\u001b[39marctan(grade \u001b[39m/\u001b[39m \u001b[39m100\u001b[39m))\n\u001b[0;32m     <a href='file:///g%3A/My%20Drive/Projects/Segment-predictor/physics/functions.py?line=23'>24</a>\u001b[0m     \u001b[39m*\u001b[39m weight_total\n\u001b[0;32m     <a href='file:///g%3A/My%20Drive/Projects/Segment-predictor/physics/functions.py?line=24'>25</a>\u001b[0m     \u001b[39m*\u001b[39m coef_rolling_resistance\n\u001b[0;32m     <a href='file:///g%3A/My%20Drive/Projects/Segment-predictor/physics/functions.py?line=25'>26</a>\u001b[0m )\n\u001b[0;32m     <a href='file:///g%3A/My%20Drive/Projects/Segment-predictor/physics/functions.py?line=26'>27</a>\u001b[0m f_drag \u001b[39m=\u001b[39m \u001b[39m0.5\u001b[39m \u001b[39m*\u001b[39m coef_drag \u001b[39m*\u001b[39m frontal_area \u001b[39m*\u001b[39m air_density \u001b[39m*\u001b[39m velocity\u001b[39m*\u001b[39m\u001b[39m*\u001b[39m\u001b[39m2\u001b[39m\n",
      "\u001b[1;31mKeyboardInterrupt\u001b[0m: "
     ]
    }
   ],
   "source": [
    "for i in range(len(b)):\n",
    "    print(i)\n",
    "    get_time_in_array(target_power, b[i, 1], b[i,2])"
   ]
  },
  {
   "cell_type": "code",
   "execution_count": null,
   "metadata": {},
   "outputs": [],
   "source": [
    "\n",
    "\n"
   ]
  },
  {
   "cell_type": "code",
   "execution_count": 35,
   "metadata": {},
   "outputs": [
    {
     "data": {
      "text/plain": [
       "(135,)"
      ]
     },
     "execution_count": 35,
     "metadata": {},
     "output_type": "execute_result"
    }
   ],
   "source": [
    "b[:, 1].shape"
   ]
  },
  {
   "cell_type": "code",
   "execution_count": 30,
   "metadata": {},
   "outputs": [
    {
     "data": {
      "text/plain": [
       "1.9735791787926467"
      ]
     },
     "execution_count": 30,
     "metadata": {},
     "output_type": "execute_result"
    }
   ],
   "source": [
    "0.000548216438553513"
   ]
  },
  {
   "cell_type": "code",
   "execution_count": null,
   "metadata": {},
   "outputs": [],
   "source": []
  }
 ],
 "metadata": {
  "interpreter": {
   "hash": "294fa65e5b820699849365cb94a0ca53b5587580e18529403c62e3fc1028bc3e"
  },
  "kernelspec": {
   "display_name": "Python 3.7.4 ('base')",
   "language": "python",
   "name": "python3"
  },
  "language_info": {
   "codemirror_mode": {
    "name": "ipython",
    "version": 3
   },
   "file_extension": ".py",
   "mimetype": "text/x-python",
   "name": "python",
   "nbconvert_exporter": "python",
   "pygments_lexer": "ipython3",
   "version": "3.9.7"
  },
  "orig_nbformat": 4
 },
 "nbformat": 4,
 "nbformat_minor": 2
}
