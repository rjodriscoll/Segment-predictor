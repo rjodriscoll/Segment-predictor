{
 "cells": [
  {
   "cell_type": "code",
   "execution_count": 67,
   "metadata": {},
   "outputs": [],
   "source": [
    "import requests\n",
    "import json\n",
    "import time\n",
    "from strava_api_details import * \n",
    "import os \n",
    "from typing import Dict, Tuple\n",
    "from tqdm import tqdm\n",
    "import urllib\n",
    "import pandas as pd\n",
    "import polyline\n",
    "from geopy import distance\n",
    "from math import sin, cos, sqrt, atan2, radians\n",
    "\n",
    "id = 701809\n",
    "\n",
    "\n",
    "def return_segment_api(id: int, access_token:str) -> None:\n",
    "    os.system(f\"curl -X GET https://www.strava.com/api/v3/segments/{id} -H 'Authorization: Bearer {access_token}' -o segment_{id}.JSON\")\n",
    "\n",
    "\n",
    "def return_segment_local(id, access_token) -> Dict:\n",
    "    with open(f'segment_{id}.JSON') as f:\n",
    "        json_data = json.load(f)\n",
    "    return json_data\n",
    "\n",
    "\n",
    "def get_params_from_segment_from_json(segment):\n",
    "    return segment['name'], segment['average_grade'], segment['maximum_grade'], polyline.decode(segment['map']['polyline'])\n",
    "\n",
    "def retrieve_segment(id: int, access_token:str):\n",
    "    return_segment_api(id, access_token)\n",
    "    seg_json = return_segment_local(id, access_token)\n",
    "    name, grade, maximum_grade, lat_lon =get_params_from_segment_from_json(seg_json)\n",
    "    print(f\"fetching segment details for {name}\")\n",
    "    return name, grade, maximum_grade, lat_lon\n",
    "\n",
    "\n",
    "def make_remote_request(url: str, params: dict):\n",
    "\n",
    "   count = 1\n",
    "   while True:\n",
    "       try:\n",
    "           response = requests.get((url + urllib.parse.urlencode(params)))\n",
    "       except (OSError, urllib3.exceptions.ProtocolError) as error:\n",
    "           print('\\n')\n",
    "           print('*' * 20, 'Error Occured', '*' * 20)\n",
    "           print(f'Number of tries: {count}')\n",
    "           print(f'URL: {url}')\n",
    "           print(error)\n",
    "           print('\\n')\n",
    "           count += 1\n",
    "           continue\n",
    "       break\n",
    "\n",
    "   return response\n",
    "\n",
    "def elevation_function(lat:float, lon:float):\n",
    "   time.sleep(1)\n",
    "   url = 'https://api.opentopodata.org/v1/eudem25m?'\n",
    "   params = {'locations': f\"{lat},{lon}\"}\n",
    "   result = make_remote_request(url, params)\n",
    "   return result.json()['results'][0]['elevation']\n",
    "\n",
    "def get_distance_delta(point1: list, point2: list) -> float:\n",
    "    return distance.distance(point1, point2).km * 1000 # return delta in meters \n",
    "\n",
    "def get_elevation_delta(point1: list, point2:list) -> float:\n",
    "    point1_elev = elevation_function(point1[0], point1[1])\n",
    "    point2_elev = elevation_function(point2[0], point2[1])\n",
    "    return point2_elev - point1_elev\n",
    "\n",
    "def get_run_rise_grade(point1:list, point2:list) -> Tuple[float, float, float]:\n",
    "    run  = get_distance_delta(point1, point2)\n",
    "    rise = get_elevation_delta(point1, point2)\n",
    "    return run, rise, rise/run *100 "
   ]
  },
  {
   "cell_type": "code",
   "execution_count": 59,
   "metadata": {},
   "outputs": [],
   "source": [
    "name, grade, maximum_grade, lat_lon = retrieve_segment(id, access_token)"
   ]
  },
  {
   "cell_type": "code",
   "execution_count": 78,
   "metadata": {},
   "outputs": [
    {
     "ename": "IndexError",
     "evalue": "list index out of range",
     "output_type": "error",
     "traceback": [
      "\u001b[0;31m---------------------------------------------------------------------------\u001b[0m",
      "\u001b[0;31mIndexError\u001b[0m                                Traceback (most recent call last)",
      "\u001b[0;32m<ipython-input-78-d3ab086dbdf5>\u001b[0m in \u001b[0;36m<module>\u001b[0;34m\u001b[0m\n\u001b[1;32m      1\u001b[0m \u001b[0;32mfor\u001b[0m \u001b[0mi\u001b[0m \u001b[0;32min\u001b[0m \u001b[0mrange\u001b[0m\u001b[0;34m(\u001b[0m\u001b[0mlen\u001b[0m\u001b[0;34m(\u001b[0m\u001b[0mlat_lon\u001b[0m\u001b[0;34m)\u001b[0m\u001b[0;34m)\u001b[0m\u001b[0;34m:\u001b[0m\u001b[0;34m\u001b[0m\u001b[0;34m\u001b[0m\u001b[0m\n\u001b[0;32m----> 2\u001b[0;31m     \u001b[0mget_run_rise_grade\u001b[0m\u001b[0;34m(\u001b[0m\u001b[0mlat_lon\u001b[0m\u001b[0;34m[\u001b[0m\u001b[0mi\u001b[0m\u001b[0;34m]\u001b[0m\u001b[0;34m,\u001b[0m\u001b[0mlat_lon\u001b[0m\u001b[0;34m[\u001b[0m\u001b[0mi\u001b[0m\u001b[0;34m+\u001b[0m\u001b[0;36m1\u001b[0m\u001b[0;34m]\u001b[0m\u001b[0;34m)\u001b[0m\u001b[0;34m\u001b[0m\u001b[0;34m\u001b[0m\u001b[0m\n\u001b[0m",
      "\u001b[0;31mIndexError\u001b[0m: list index out of range"
     ]
    }
   ],
   "source": [
    "def get_seg_details_as_list():\n",
    "    retrieve_segment(id, access_token)\n",
    "    storage_list = []\n",
    "    print('Remotely fetching elevation data ')\n",
    "    for i in range(len(lat_lon)-1):\n",
    "        storage_list.append(get_run_rise_grade(lat_lon[i],lat_lon[i+1]))\n",
    "\n",
    "\n"
   ]
  }
 ],
 "metadata": {
  "interpreter": {
   "hash": "294fa65e5b820699849365cb94a0ca53b5587580e18529403c62e3fc1028bc3e"
  },
  "kernelspec": {
   "display_name": "Python 3.7.4 ('base')",
   "language": "python",
   "name": "python3"
  },
  "language_info": {
   "codemirror_mode": {
    "name": "ipython",
    "version": 3
   },
   "file_extension": ".py",
   "mimetype": "text/x-python",
   "name": "python",
   "nbconvert_exporter": "python",
   "pygments_lexer": "ipython3",
   "version": "3.7.4"
  },
  "orig_nbformat": 4
 },
 "nbformat": 4,
 "nbformat_minor": 2
}
